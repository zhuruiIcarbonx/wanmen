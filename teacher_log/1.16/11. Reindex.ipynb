{
 "cells": [
  {
   "cell_type": "markdown",
   "metadata": {},
   "source": [
    "## This notebook let's take a look at reindex"
   ]
  },
  {
   "cell_type": "code",
   "execution_count": 2,
   "metadata": {
    "collapsed": true
   },
   "outputs": [],
   "source": [
    "import numpy as np\n",
    "import pandas as pd"
   ]
  },
  {
   "cell_type": "code",
   "execution_count": 3,
   "metadata": {},
   "outputs": [
    {
     "data": {
      "text/plain": [
       "[[-1.2397905458029188,\n",
       "  0.06336419863545814,\n",
       "  -1.3406420618084767,\n",
       "  0.48739820359450875]]"
      ]
     },
     "execution_count": 3,
     "metadata": {},
     "output_type": "execute_result"
    }
   ],
   "source": [
    "np.random.randn(1, 4).tolist()"
   ]
  },
  {
   "cell_type": "code",
   "execution_count": 4,
   "metadata": {},
   "outputs": [
    {
     "data": {
      "text/plain": [
       "A   -0.981401\n",
       "B    0.336212\n",
       "C   -0.815247\n",
       "D   -0.121890\n",
       "dtype: float64"
      ]
     },
     "execution_count": 4,
     "metadata": {},
     "output_type": "execute_result"
    }
   ],
   "source": [
    "s1 = pd.Series(np.random.randn(1, 4).tolist()[0], index=['A', 'B','C','D'])\n",
    "s1"
   ]
  },
  {
   "cell_type": "markdown",
   "metadata": {},
   "source": [
    "### For series, reindex can be smart"
   ]
  },
  {
   "cell_type": "code",
   "execution_count": 5,
   "metadata": {},
   "outputs": [
    {
     "data": {
      "text/plain": [
       "A   -0.981401\n",
       "B    0.336212\n",
       "C   -0.815247\n",
       "D   -0.121890\n",
       "E         NaN\n",
       "F         NaN\n",
       "G         NaN\n",
       "dtype: float64"
      ]
     },
     "execution_count": 5,
     "metadata": {},
     "output_type": "execute_result"
    }
   ],
   "source": [
    "s2 = s1.reindex(['A', 'B','C','D','E','F','G'])\n",
    "s2"
   ]
  },
  {
   "cell_type": "code",
   "execution_count": 10,
   "metadata": {},
   "outputs": [
    {
     "data": {
      "text/plain": [
       "A    0.931752\n",
       "B    1.797262\n",
       "C    0.070559\n",
       "D   -1.052753\n",
       "E         NaN\n",
       "F         NaN\n",
       "G         NaN\n",
       "H    0.000000\n",
       "dtype: float64"
      ]
     },
     "execution_count": 10,
     "metadata": {},
     "output_type": "execute_result"
    }
   ],
   "source": [
    "s3 = s2.reindex(['A', 'B','C','D','E','F','G','H'],fill_value=0)\n",
    "s3"
   ]
  },
  {
   "cell_type": "markdown",
   "metadata": {},
   "source": [
    "### Pandas Reindex"
   ]
  },
  {
   "cell_type": "code",
   "execution_count": 20,
   "metadata": {},
   "outputs": [
    {
     "data": {
      "text/html": [
       "<div>\n",
       "<table border=\"1\" class=\"dataframe\">\n",
       "  <thead>\n",
       "    <tr style=\"text-align: right;\">\n",
       "      <th></th>\n",
       "      <th>c1</th>\n",
       "      <th>c2</th>\n",
       "      <th>c3</th>\n",
       "      <th>c4</th>\n",
       "    </tr>\n",
       "  </thead>\n",
       "  <tbody>\n",
       "    <tr>\n",
       "      <th>r1</th>\n",
       "      <td>0.509212</td>\n",
       "      <td>-2.183747</td>\n",
       "      <td>-0.504626</td>\n",
       "      <td>1.268728</td>\n",
       "    </tr>\n",
       "    <tr>\n",
       "      <th>r2</th>\n",
       "      <td>1.384487</td>\n",
       "      <td>0.392027</td>\n",
       "      <td>-0.439680</td>\n",
       "      <td>-1.251920</td>\n",
       "    </tr>\n",
       "    <tr>\n",
       "      <th>r3</th>\n",
       "      <td>0.637138</td>\n",
       "      <td>0.102116</td>\n",
       "      <td>-1.806290</td>\n",
       "      <td>0.007332</td>\n",
       "    </tr>\n",
       "    <tr>\n",
       "      <th>r4</th>\n",
       "      <td>-0.141316</td>\n",
       "      <td>1.502291</td>\n",
       "      <td>1.290872</td>\n",
       "      <td>-0.087561</td>\n",
       "    </tr>\n",
       "  </tbody>\n",
       "</table>\n",
       "</div>"
      ],
      "text/plain": [
       "          c1        c2        c3        c4\n",
       "r1  0.509212 -2.183747 -0.504626  1.268728\n",
       "r2  1.384487  0.392027 -0.439680 -1.251920\n",
       "r3  0.637138  0.102116 -1.806290  0.007332\n",
       "r4 -0.141316  1.502291  1.290872 -0.087561"
      ]
     },
     "execution_count": 20,
     "metadata": {},
     "output_type": "execute_result"
    }
   ],
   "source": [
    "df = pd.DataFrame(np.random.randn(4, 4), index = ['r1','r2','r3','r4'], columns=['c1','c2','c3','c4'])\n",
    "df"
   ]
  },
  {
   "cell_type": "code",
   "execution_count": 21,
   "metadata": {},
   "outputs": [
    {
     "data": {
      "text/html": [
       "<div>\n",
       "<table border=\"1\" class=\"dataframe\">\n",
       "  <thead>\n",
       "    <tr style=\"text-align: right;\">\n",
       "      <th></th>\n",
       "      <th>c1</th>\n",
       "      <th>c2</th>\n",
       "      <th>c3</th>\n",
       "      <th>c4</th>\n",
       "    </tr>\n",
       "  </thead>\n",
       "  <tbody>\n",
       "    <tr>\n",
       "      <th>r1</th>\n",
       "      <td>0.509212</td>\n",
       "      <td>-2.183747</td>\n",
       "      <td>-0.504626</td>\n",
       "      <td>1.268728</td>\n",
       "    </tr>\n",
       "    <tr>\n",
       "      <th>r2</th>\n",
       "      <td>1.384487</td>\n",
       "      <td>0.392027</td>\n",
       "      <td>-0.439680</td>\n",
       "      <td>-1.251920</td>\n",
       "    </tr>\n",
       "    <tr>\n",
       "      <th>r3</th>\n",
       "      <td>0.637138</td>\n",
       "      <td>0.102116</td>\n",
       "      <td>-1.806290</td>\n",
       "      <td>0.007332</td>\n",
       "    </tr>\n",
       "    <tr>\n",
       "      <th>r6</th>\n",
       "      <td>NaN</td>\n",
       "      <td>NaN</td>\n",
       "      <td>NaN</td>\n",
       "      <td>NaN</td>\n",
       "    </tr>\n",
       "    <tr>\n",
       "      <th>r4</th>\n",
       "      <td>-0.141316</td>\n",
       "      <td>1.502291</td>\n",
       "      <td>1.290872</td>\n",
       "      <td>-0.087561</td>\n",
       "    </tr>\n",
       "    <tr>\n",
       "      <th>r5</th>\n",
       "      <td>NaN</td>\n",
       "      <td>NaN</td>\n",
       "      <td>NaN</td>\n",
       "      <td>NaN</td>\n",
       "    </tr>\n",
       "  </tbody>\n",
       "</table>\n",
       "</div>"
      ],
      "text/plain": [
       "          c1        c2        c3        c4\n",
       "r1  0.509212 -2.183747 -0.504626  1.268728\n",
       "r2  1.384487  0.392027 -0.439680 -1.251920\n",
       "r3  0.637138  0.102116 -1.806290  0.007332\n",
       "r6       NaN       NaN       NaN       NaN\n",
       "r4 -0.141316  1.502291  1.290872 -0.087561\n",
       "r5       NaN       NaN       NaN       NaN"
      ]
     },
     "execution_count": 21,
     "metadata": {},
     "output_type": "execute_result"
    }
   ],
   "source": [
    "df.reindex(['r1','r2','r3','r6','r4','r5'])"
   ]
  },
  {
   "cell_type": "code",
   "execution_count": 22,
   "metadata": {},
   "outputs": [
    {
     "data": {
      "text/html": [
       "<div>\n",
       "<table border=\"1\" class=\"dataframe\">\n",
       "  <thead>\n",
       "    <tr style=\"text-align: right;\">\n",
       "      <th></th>\n",
       "      <th>c1</th>\n",
       "      <th>c2</th>\n",
       "      <th>c3</th>\n",
       "      <th>c4</th>\n",
       "      <th>c5</th>\n",
       "    </tr>\n",
       "  </thead>\n",
       "  <tbody>\n",
       "    <tr>\n",
       "      <th>r1</th>\n",
       "      <td>0.509212</td>\n",
       "      <td>-2.183747</td>\n",
       "      <td>-0.504626</td>\n",
       "      <td>1.268728</td>\n",
       "      <td>NaN</td>\n",
       "    </tr>\n",
       "    <tr>\n",
       "      <th>r2</th>\n",
       "      <td>1.384487</td>\n",
       "      <td>0.392027</td>\n",
       "      <td>-0.439680</td>\n",
       "      <td>-1.251920</td>\n",
       "      <td>NaN</td>\n",
       "    </tr>\n",
       "    <tr>\n",
       "      <th>r3</th>\n",
       "      <td>0.637138</td>\n",
       "      <td>0.102116</td>\n",
       "      <td>-1.806290</td>\n",
       "      <td>0.007332</td>\n",
       "      <td>NaN</td>\n",
       "    </tr>\n",
       "    <tr>\n",
       "      <th>r4</th>\n",
       "      <td>-0.141316</td>\n",
       "      <td>1.502291</td>\n",
       "      <td>1.290872</td>\n",
       "      <td>-0.087561</td>\n",
       "      <td>NaN</td>\n",
       "    </tr>\n",
       "  </tbody>\n",
       "</table>\n",
       "</div>"
      ],
      "text/plain": [
       "          c1        c2        c3        c4  c5\n",
       "r1  0.509212 -2.183747 -0.504626  1.268728 NaN\n",
       "r2  1.384487  0.392027 -0.439680 -1.251920 NaN\n",
       "r3  0.637138  0.102116 -1.806290  0.007332 NaN\n",
       "r4 -0.141316  1.502291  1.290872 -0.087561 NaN"
      ]
     },
     "execution_count": 22,
     "metadata": {},
     "output_type": "execute_result"
    }
   ],
   "source": [
    "df.reindex(columns=['c1','c2','c3','c4','c5'])"
   ]
  }
 ],
 "metadata": {
  "kernelspec": {
   "display_name": "Python 3",
   "language": "python",
   "name": "python3"
  },
  "language_info": {
   "codemirror_mode": {
    "name": "ipython",
    "version": 3
   },
   "file_extension": ".py",
   "mimetype": "text/x-python",
   "name": "python",
   "nbconvert_exporter": "python",
   "pygments_lexer": "ipython3",
   "version": "3.6.3"
  }
 },
 "nbformat": 4,
 "nbformat_minor": 2
}
