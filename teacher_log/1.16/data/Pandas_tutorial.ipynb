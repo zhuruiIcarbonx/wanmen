{
 "cells": [
  {
   "cell_type": "code",
   "execution_count": 2,
   "metadata": {
    "collapsed": false
   },
   "outputs": [
    {
     "name": "stderr",
     "output_type": "stream",
     "text": [
      "/Users/zepeng/anaconda/lib/python3.5/site-packages/IPython/core/interactiveshell.py:2885: FutureWarning: \n",
      "mpl_style had been deprecated and will be removed in a future version.\n",
      "Use `matplotlib.pyplot.style.use` instead.\n",
      "\n",
      "  exec(code_obj, self.user_global_ns, self.user_ns)\n"
     ]
    }
   ],
   "source": [
    "import numpy as np\n",
    "import pandas as pd\n",
    "import matplotlib as plt\n",
    "%matplotlib inline\n",
    "\n",
    "pd.set_option('display.mpl_style', 'default') # Make the graphs a bit prettier\n",
    "plt.rcParams['figure.figsize'] = (15, 5)"
   ]
  },
  {
   "cell_type": "markdown",
   "metadata": {},
   "source": [
    "#### Source from https://github.com/jvns/pandas-cookbook/"
   ]
  },
  {
   "cell_type": "markdown",
   "metadata": {
    "collapsed": true
   },
   "source": [
    "## 1.1 Reading data from a csv file"
   ]
  },
  {
   "cell_type": "code",
   "execution_count": 3,
   "metadata": {
    "collapsed": false
   },
   "outputs": [],
   "source": [
    "broken_df = pd.read_csv('bikes.csv',encoding = \"ISO-8859-1\")\n",
    "#This dataset is a list of how many people were on 7 different bike paths in Montreal, each day.\n",
    "\n",
    "\n",
    "pd.read\n"
   ]
  },
  {
   "cell_type": "code",
   "execution_count": 4,
   "metadata": {
    "collapsed": false
   },
   "outputs": [
    {
     "data": {
      "text/html": [
       "<div>\n",
       "<table border=\"1\" class=\"dataframe\">\n",
       "  <thead>\n",
       "    <tr style=\"text-align: right;\">\n",
       "      <th></th>\n",
       "      <th>Date;Berri 1;Brébeuf (données non disponibles);Côte-Sainte-Catherine;Maisonneuve 1;Maisonneuve 2;du Parc;Pierre-Dupuy;Rachel1;St-Urbain (données non disponibles)</th>\n",
       "    </tr>\n",
       "  </thead>\n",
       "  <tbody>\n",
       "    <tr>\n",
       "      <th>0</th>\n",
       "      <td>01/01/2012;35;;0;38;51;26;10;16;</td>\n",
       "    </tr>\n",
       "    <tr>\n",
       "      <th>1</th>\n",
       "      <td>02/01/2012;83;;1;68;153;53;6;43;</td>\n",
       "    </tr>\n",
       "    <tr>\n",
       "      <th>2</th>\n",
       "      <td>03/01/2012;135;;2;104;248;89;3;58;</td>\n",
       "    </tr>\n",
       "    <tr>\n",
       "      <th>3</th>\n",
       "      <td>04/01/2012;144;;1;116;318;111;8;61;</td>\n",
       "    </tr>\n",
       "    <tr>\n",
       "      <th>4</th>\n",
       "      <td>05/01/2012;197;;2;124;330;97;13;95;</td>\n",
       "    </tr>\n",
       "  </tbody>\n",
       "</table>\n",
       "</div>"
      ],
      "text/plain": [
       "  Date;Berri 1;Brébeuf (données non disponibles);Côte-Sainte-Catherine;Maisonneuve 1;Maisonneuve 2;du Parc;Pierre-Dupuy;Rachel1;St-Urbain (données non disponibles)\n",
       "0                   01/01/2012;35;;0;38;51;26;10;16;                                                                                                               \n",
       "1                   02/01/2012;83;;1;68;153;53;6;43;                                                                                                               \n",
       "2                 03/01/2012;135;;2;104;248;89;3;58;                                                                                                               \n",
       "3                04/01/2012;144;;1;116;318;111;8;61;                                                                                                               \n",
       "4                05/01/2012;197;;2;124;330;97;13;95;                                                                                                               "
      ]
     },
     "execution_count": 4,
     "metadata": {},
     "output_type": "execute_result"
    }
   ],
   "source": [
    "broken_df.head(5)"
   ]
  },
  {
   "cell_type": "code",
   "execution_count": 5,
   "metadata": {
    "collapsed": false
   },
   "outputs": [
    {
     "data": {
      "text/html": [
       "<div>\n",
       "<table border=\"1\" class=\"dataframe\">\n",
       "  <thead>\n",
       "    <tr style=\"text-align: right;\">\n",
       "      <th></th>\n",
       "      <th>Berri 1</th>\n",
       "      <th>Brébeuf (données non disponibles)</th>\n",
       "      <th>Côte-Sainte-Catherine</th>\n",
       "      <th>Maisonneuve 1</th>\n",
       "      <th>Maisonneuve 2</th>\n",
       "      <th>du Parc</th>\n",
       "      <th>Pierre-Dupuy</th>\n",
       "      <th>Rachel1</th>\n",
       "      <th>St-Urbain (données non disponibles)</th>\n",
       "    </tr>\n",
       "    <tr>\n",
       "      <th>Date</th>\n",
       "      <th></th>\n",
       "      <th></th>\n",
       "      <th></th>\n",
       "      <th></th>\n",
       "      <th></th>\n",
       "      <th></th>\n",
       "      <th></th>\n",
       "      <th></th>\n",
       "      <th></th>\n",
       "    </tr>\n",
       "  </thead>\n",
       "  <tbody>\n",
       "    <tr>\n",
       "      <th>2012-01-01</th>\n",
       "      <td>35</td>\n",
       "      <td>NaN</td>\n",
       "      <td>0</td>\n",
       "      <td>38</td>\n",
       "      <td>51</td>\n",
       "      <td>26</td>\n",
       "      <td>10</td>\n",
       "      <td>16</td>\n",
       "      <td>NaN</td>\n",
       "    </tr>\n",
       "    <tr>\n",
       "      <th>2012-01-02</th>\n",
       "      <td>83</td>\n",
       "      <td>NaN</td>\n",
       "      <td>1</td>\n",
       "      <td>68</td>\n",
       "      <td>153</td>\n",
       "      <td>53</td>\n",
       "      <td>6</td>\n",
       "      <td>43</td>\n",
       "      <td>NaN</td>\n",
       "    </tr>\n",
       "    <tr>\n",
       "      <th>2012-01-03</th>\n",
       "      <td>135</td>\n",
       "      <td>NaN</td>\n",
       "      <td>2</td>\n",
       "      <td>104</td>\n",
       "      <td>248</td>\n",
       "      <td>89</td>\n",
       "      <td>3</td>\n",
       "      <td>58</td>\n",
       "      <td>NaN</td>\n",
       "    </tr>\n",
       "  </tbody>\n",
       "</table>\n",
       "</div>"
      ],
      "text/plain": [
       "            Berri 1  Brébeuf (données non disponibles)  Côte-Sainte-Catherine  \\\n",
       "Date                                                                            \n",
       "2012-01-01       35                                NaN                      0   \n",
       "2012-01-02       83                                NaN                      1   \n",
       "2012-01-03      135                                NaN                      2   \n",
       "\n",
       "            Maisonneuve 1  Maisonneuve 2  du Parc  Pierre-Dupuy  Rachel1  \\\n",
       "Date                                                                       \n",
       "2012-01-01             38             51       26            10       16   \n",
       "2012-01-02             68            153       53             6       43   \n",
       "2012-01-03            104            248       89             3       58   \n",
       "\n",
       "            St-Urbain (données non disponibles)  \n",
       "Date                                             \n",
       "2012-01-01                                  NaN  \n",
       "2012-01-02                                  NaN  \n",
       "2012-01-03                                  NaN  "
      ]
     },
     "execution_count": 5,
     "metadata": {},
     "output_type": "execute_result"
    }
   ],
   "source": [
    "bike_df = pd.read_csv('../data/bikes.csv', sep=';', encoding='latin1', parse_dates=['Date'], dayfirst=True, index_col='Date')\n",
    "bike_df[:3]"
   ]
  },
  {
   "cell_type": "markdown",
   "metadata": {
    "collapsed": true
   },
   "source": [
    "## 1.2 Selecting a column"
   ]
  },
  {
   "cell_type": "code",
   "execution_count": 6,
   "metadata": {
    "collapsed": false
   },
   "outputs": [
    {
     "data": {
      "text/plain": [
       "Date\n",
       "2012-01-01      35\n",
       "2012-01-02      83\n",
       "2012-01-03     135\n",
       "2012-01-04     144\n",
       "2012-01-05     197\n",
       "2012-01-06     146\n",
       "2012-01-07      98\n",
       "2012-01-08      95\n",
       "2012-01-09     244\n",
       "2012-01-10     397\n",
       "2012-01-11     273\n",
       "2012-01-12     157\n",
       "2012-01-13      75\n",
       "2012-01-14      32\n",
       "2012-01-15      54\n",
       "2012-01-16     168\n",
       "2012-01-17     155\n",
       "2012-01-18     139\n",
       "2012-01-19     191\n",
       "2012-01-20     161\n",
       "2012-01-21      53\n",
       "2012-01-22      71\n",
       "2012-01-23     210\n",
       "2012-01-24     299\n",
       "2012-01-25     334\n",
       "2012-01-26     306\n",
       "2012-01-27      91\n",
       "2012-01-28      80\n",
       "2012-01-29      87\n",
       "2012-01-30     219\n",
       "              ... \n",
       "2012-10-07    1580\n",
       "2012-10-08    1854\n",
       "2012-10-09    4787\n",
       "2012-10-10    3115\n",
       "2012-10-11    3746\n",
       "2012-10-12    3169\n",
       "2012-10-13    1783\n",
       "2012-10-14     587\n",
       "2012-10-15    3292\n",
       "2012-10-16    3739\n",
       "2012-10-17    4098\n",
       "2012-10-18    4671\n",
       "2012-10-19    1313\n",
       "2012-10-20    2011\n",
       "2012-10-21    1277\n",
       "2012-10-22    3650\n",
       "2012-10-23    4177\n",
       "2012-10-24    3744\n",
       "2012-10-25    3735\n",
       "2012-10-26    4290\n",
       "2012-10-27    1857\n",
       "2012-10-28    1310\n",
       "2012-10-29    2919\n",
       "2012-10-30    2887\n",
       "2012-10-31    2634\n",
       "2012-11-01    2405\n",
       "2012-11-02    1582\n",
       "2012-11-03     844\n",
       "2012-11-04     966\n",
       "2012-11-05    2247\n",
       "Name: Berri 1, dtype: int64"
      ]
     },
     "execution_count": 6,
     "metadata": {},
     "output_type": "execute_result"
    }
   ],
   "source": [
    "bike_df['Berri 1']"
   ]
  },
  {
   "cell_type": "code",
   "execution_count": 7,
   "metadata": {
    "collapsed": false
   },
   "outputs": [
    {
     "data": {
      "text/plain": [
       "(310, 9)"
      ]
     },
     "execution_count": 7,
     "metadata": {},
     "output_type": "execute_result"
    }
   ],
   "source": [
    "bike_df.shape"
   ]
  },
  {
   "cell_type": "code",
   "execution_count": 8,
   "metadata": {
    "collapsed": false
   },
   "outputs": [
    {
     "data": {
      "text/html": [
       "<div>\n",
       "<table border=\"1\" class=\"dataframe\">\n",
       "  <thead>\n",
       "    <tr style=\"text-align: right;\">\n",
       "      <th></th>\n",
       "      <th>Berri 1</th>\n",
       "      <th>Brébeuf (données non disponibles)</th>\n",
       "      <th>Côte-Sainte-Catherine</th>\n",
       "      <th>Maisonneuve 1</th>\n",
       "      <th>Maisonneuve 2</th>\n",
       "      <th>du Parc</th>\n",
       "      <th>Pierre-Dupuy</th>\n",
       "      <th>Rachel1</th>\n",
       "      <th>St-Urbain (données non disponibles)</th>\n",
       "    </tr>\n",
       "  </thead>\n",
       "  <tbody>\n",
       "    <tr>\n",
       "      <th>count</th>\n",
       "      <td>310.000000</td>\n",
       "      <td>0.0</td>\n",
       "      <td>310.000000</td>\n",
       "      <td>310.000000</td>\n",
       "      <td>310.000000</td>\n",
       "      <td>310.000000</td>\n",
       "      <td>310.000000</td>\n",
       "      <td>310.000000</td>\n",
       "      <td>0.0</td>\n",
       "    </tr>\n",
       "    <tr>\n",
       "      <th>mean</th>\n",
       "      <td>2985.048387</td>\n",
       "      <td>NaN</td>\n",
       "      <td>1233.351613</td>\n",
       "      <td>1983.325806</td>\n",
       "      <td>3510.261290</td>\n",
       "      <td>1862.983871</td>\n",
       "      <td>1054.306452</td>\n",
       "      <td>2873.483871</td>\n",
       "      <td>NaN</td>\n",
       "    </tr>\n",
       "    <tr>\n",
       "      <th>std</th>\n",
       "      <td>2169.271062</td>\n",
       "      <td>NaN</td>\n",
       "      <td>944.643188</td>\n",
       "      <td>1450.715170</td>\n",
       "      <td>2484.959789</td>\n",
       "      <td>1332.543266</td>\n",
       "      <td>1064.029205</td>\n",
       "      <td>2039.315504</td>\n",
       "      <td>NaN</td>\n",
       "    </tr>\n",
       "    <tr>\n",
       "      <th>min</th>\n",
       "      <td>32.000000</td>\n",
       "      <td>NaN</td>\n",
       "      <td>0.000000</td>\n",
       "      <td>33.000000</td>\n",
       "      <td>47.000000</td>\n",
       "      <td>18.000000</td>\n",
       "      <td>0.000000</td>\n",
       "      <td>0.000000</td>\n",
       "      <td>NaN</td>\n",
       "    </tr>\n",
       "    <tr>\n",
       "      <th>25%</th>\n",
       "      <td>596.000000</td>\n",
       "      <td>NaN</td>\n",
       "      <td>243.250000</td>\n",
       "      <td>427.000000</td>\n",
       "      <td>831.000000</td>\n",
       "      <td>474.750000</td>\n",
       "      <td>53.250000</td>\n",
       "      <td>731.000000</td>\n",
       "      <td>NaN</td>\n",
       "    </tr>\n",
       "    <tr>\n",
       "      <th>50%</th>\n",
       "      <td>3128.000000</td>\n",
       "      <td>NaN</td>\n",
       "      <td>1269.000000</td>\n",
       "      <td>2019.500000</td>\n",
       "      <td>3688.500000</td>\n",
       "      <td>1822.500000</td>\n",
       "      <td>704.000000</td>\n",
       "      <td>3223.500000</td>\n",
       "      <td>NaN</td>\n",
       "    </tr>\n",
       "    <tr>\n",
       "      <th>75%</th>\n",
       "      <td>4973.250000</td>\n",
       "      <td>NaN</td>\n",
       "      <td>2003.000000</td>\n",
       "      <td>3168.250000</td>\n",
       "      <td>5731.750000</td>\n",
       "      <td>3069.000000</td>\n",
       "      <td>1818.500000</td>\n",
       "      <td>4717.250000</td>\n",
       "      <td>NaN</td>\n",
       "    </tr>\n",
       "    <tr>\n",
       "      <th>max</th>\n",
       "      <td>7077.000000</td>\n",
       "      <td>NaN</td>\n",
       "      <td>3124.000000</td>\n",
       "      <td>4999.000000</td>\n",
       "      <td>8222.000000</td>\n",
       "      <td>4510.000000</td>\n",
       "      <td>4386.000000</td>\n",
       "      <td>6595.000000</td>\n",
       "      <td>NaN</td>\n",
       "    </tr>\n",
       "  </tbody>\n",
       "</table>\n",
       "</div>"
      ],
      "text/plain": [
       "           Berri 1  Brébeuf (données non disponibles)  Côte-Sainte-Catherine  \\\n",
       "count   310.000000                                0.0             310.000000   \n",
       "mean   2985.048387                                NaN            1233.351613   \n",
       "std    2169.271062                                NaN             944.643188   \n",
       "min      32.000000                                NaN               0.000000   \n",
       "25%     596.000000                                NaN             243.250000   \n",
       "50%    3128.000000                                NaN            1269.000000   \n",
       "75%    4973.250000                                NaN            2003.000000   \n",
       "max    7077.000000                                NaN            3124.000000   \n",
       "\n",
       "       Maisonneuve 1  Maisonneuve 2      du Parc  Pierre-Dupuy      Rachel1  \\\n",
       "count     310.000000     310.000000   310.000000    310.000000   310.000000   \n",
       "mean     1983.325806    3510.261290  1862.983871   1054.306452  2873.483871   \n",
       "std      1450.715170    2484.959789  1332.543266   1064.029205  2039.315504   \n",
       "min        33.000000      47.000000    18.000000      0.000000     0.000000   \n",
       "25%       427.000000     831.000000   474.750000     53.250000   731.000000   \n",
       "50%      2019.500000    3688.500000  1822.500000    704.000000  3223.500000   \n",
       "75%      3168.250000    5731.750000  3069.000000   1818.500000  4717.250000   \n",
       "max      4999.000000    8222.000000  4510.000000   4386.000000  6595.000000   \n",
       "\n",
       "       St-Urbain (données non disponibles)  \n",
       "count                                  0.0  \n",
       "mean                                   NaN  \n",
       "std                                    NaN  \n",
       "min                                    NaN  \n",
       "25%                                    NaN  \n",
       "50%                                    NaN  \n",
       "75%                                    NaN  \n",
       "max                                    NaN  "
      ]
     },
     "execution_count": 8,
     "metadata": {},
     "output_type": "execute_result"
    }
   ],
   "source": [
    "bike_df.describe()"
   ]
  },
  {
   "cell_type": "markdown",
   "metadata": {
    "collapsed": true
   },
   "source": [
    "## 1.3 Plotting a column"
   ]
  },
  {
   "cell_type": "code",
   "execution_count": 9,
   "metadata": {
    "collapsed": false
   },
   "outputs": [
    {
     "data": {
      "text/plain": [
       "<matplotlib.axes._subplots.AxesSubplot at 0x11234bb38>"
      ]
     },
     "execution_count": 9,
     "metadata": {},
     "output_type": "execute_result"
    },
    {
     "data": {
      "image/png": "[encoded data removed]",
      "text/plain": [
       "<matplotlib.figure.Figure at 0x103fd09b0>"
      ]
     },
     "metadata": {},
     "output_type": "display_data"
    }
   ],
   "source": [
    "bike_df['Berri 1'].plot()"
   ]
  },
  {
   "cell_type": "code",
   "execution_count": 10,
   "metadata": {
    "collapsed": false
   },
   "outputs": [
    {
     "data": {
      "text/plain": [
       "<matplotlib.axes._subplots.AxesSubplot at 0x112597080>"
      ]
     },
     "execution_count": 10,
     "metadata": {},
     "output_type": "execute_result"
    },
    {
     "data": {
      "image/png": "[encoded data removed]",
      "text/plain": [
       "<matplotlib.figure.Figure at 0x1125c7ba8>"
      ]
     },
     "metadata": {},
     "output_type": "display_data"
    }
   ],
   "source": [
    "bike_df.plot(figsize=(18, 10))"
   ]
  },
  {
   "cell_type": "markdown",
   "metadata": {
    "collapsed": true
   },
   "source": [
    "## 2. New Dataset:  Requests from NYC Open Data"
   ]
  },
  {
   "cell_type": "code",
   "execution_count": 11,
   "metadata": {
    "collapsed": false
   },
   "outputs": [
    {
     "name": "stderr",
     "output_type": "stream",
     "text": [
      "/Users/zepeng/anaconda/lib/python3.5/site-packages/IPython/core/interactiveshell.py:2723: DtypeWarning: Columns (8) have mixed types. Specify dtype option on import or set low_memory=False.\n",
      "  interactivity=interactivity, compiler=compiler, result=result)\n"
     ]
    }
   ],
   "source": [
    "complaints = pd.read_csv('311-service-requests.csv')"
   ]
  },
  {
   "cell_type": "code",
   "execution_count": 12,
   "metadata": {
    "collapsed": false
   },
   "outputs": [
    {
     "data": {
      "text/html": [
       "<div>\n",
       "<table border=\"1\" class=\"dataframe\">\n",
       "  <thead>\n",
       "    <tr style=\"text-align: right;\">\n",
       "      <th></th>\n",
       "      <th>Unique Key</th>\n",
       "      <th>Created Date</th>\n",
       "      <th>Closed Date</th>\n",
       "      <th>Agency</th>\n",
       "      <th>Agency Name</th>\n",
       "      <th>Complaint Type</th>\n",
       "      <th>Descriptor</th>\n",
       "      <th>Location Type</th>\n",
       "      <th>Incident Zip</th>\n",
       "      <th>Incident Address</th>\n",
       "      <th>...</th>\n",
       "      <th>Bridge Highway Name</th>\n",
       "      <th>Bridge Highway Direction</th>\n",
       "      <th>Road Ramp</th>\n",
       "      <th>Bridge Highway Segment</th>\n",
       "      <th>Garage Lot Name</th>\n",
       "      <th>Ferry Direction</th>\n",
       "      <th>Ferry Terminal Name</th>\n",
       "      <th>Latitude</th>\n",
       "      <th>Longitude</th>\n",
       "      <th>Location</th>\n",
       "    </tr>\n",
       "  </thead>\n",
       "  <tbody>\n",
       "    <tr>\n",
       "      <th>0</th>\n",
       "      <td>26589651</td>\n",
       "      <td>10/31/2013 02:08:41 AM</td>\n",
       "      <td>NaN</td>\n",
       "      <td>NYPD</td>\n",
       "      <td>New York City Police Department</td>\n",
       "      <td>Noise - Street/Sidewalk</td>\n",
       "      <td>Loud Talking</td>\n",
       "      <td>Street/Sidewalk</td>\n",
       "      <td>11432</td>\n",
       "      <td>90-03 169 STREET</td>\n",
       "      <td>...</td>\n",
       "      <td>NaN</td>\n",
       "      <td>NaN</td>\n",
       "      <td>NaN</td>\n",
       "      <td>NaN</td>\n",
       "      <td>NaN</td>\n",
       "      <td>NaN</td>\n",
       "      <td>NaN</td>\n",
       "      <td>40.708275</td>\n",
       "      <td>-73.791604</td>\n",
       "      <td>(40.70827532593202, -73.79160395779721)</td>\n",
       "    </tr>\n",
       "    <tr>\n",
       "      <th>1</th>\n",
       "      <td>26593698</td>\n",
       "      <td>10/31/2013 02:01:04 AM</td>\n",
       "      <td>NaN</td>\n",
       "      <td>NYPD</td>\n",
       "      <td>New York City Police Department</td>\n",
       "      <td>Illegal Parking</td>\n",
       "      <td>Commercial Overnight Parking</td>\n",
       "      <td>Street/Sidewalk</td>\n",
       "      <td>11378</td>\n",
       "      <td>58 AVENUE</td>\n",
       "      <td>...</td>\n",
       "      <td>NaN</td>\n",
       "      <td>NaN</td>\n",
       "      <td>NaN</td>\n",
       "      <td>NaN</td>\n",
       "      <td>NaN</td>\n",
       "      <td>NaN</td>\n",
       "      <td>NaN</td>\n",
       "      <td>40.721041</td>\n",
       "      <td>-73.909453</td>\n",
       "      <td>(40.721040535628305, -73.90945306791765)</td>\n",
       "    </tr>\n",
       "    <tr>\n",
       "      <th>2</th>\n",
       "      <td>26594139</td>\n",
       "      <td>10/31/2013 02:00:24 AM</td>\n",
       "      <td>10/31/2013 02:40:32 AM</td>\n",
       "      <td>NYPD</td>\n",
       "      <td>New York City Police Department</td>\n",
       "      <td>Noise - Commercial</td>\n",
       "      <td>Loud Music/Party</td>\n",
       "      <td>Club/Bar/Restaurant</td>\n",
       "      <td>10032</td>\n",
       "      <td>4060 BROADWAY</td>\n",
       "      <td>...</td>\n",
       "      <td>NaN</td>\n",
       "      <td>NaN</td>\n",
       "      <td>NaN</td>\n",
       "      <td>NaN</td>\n",
       "      <td>NaN</td>\n",
       "      <td>NaN</td>\n",
       "      <td>NaN</td>\n",
       "      <td>40.843330</td>\n",
       "      <td>-73.939144</td>\n",
       "      <td>(40.84332975466513, -73.93914371913482)</td>\n",
       "    </tr>\n",
       "    <tr>\n",
       "      <th>3</th>\n",
       "      <td>26595721</td>\n",
       "      <td>10/31/2013 01:56:23 AM</td>\n",
       "      <td>10/31/2013 02:21:48 AM</td>\n",
       "      <td>NYPD</td>\n",
       "      <td>New York City Police Department</td>\n",
       "      <td>Noise - Vehicle</td>\n",
       "      <td>Car/Truck Horn</td>\n",
       "      <td>Street/Sidewalk</td>\n",
       "      <td>10023</td>\n",
       "      <td>WEST 72 STREET</td>\n",
       "      <td>...</td>\n",
       "      <td>NaN</td>\n",
       "      <td>NaN</td>\n",
       "      <td>NaN</td>\n",
       "      <td>NaN</td>\n",
       "      <td>NaN</td>\n",
       "      <td>NaN</td>\n",
       "      <td>NaN</td>\n",
       "      <td>40.778009</td>\n",
       "      <td>-73.980213</td>\n",
       "      <td>(40.7780087446372, -73.98021349023975)</td>\n",
       "    </tr>\n",
       "    <tr>\n",
       "      <th>4</th>\n",
       "      <td>26590930</td>\n",
       "      <td>10/31/2013 01:53:44 AM</td>\n",
       "      <td>NaN</td>\n",
       "      <td>DOHMH</td>\n",
       "      <td>Department of Health and Mental Hygiene</td>\n",
       "      <td>Rodent</td>\n",
       "      <td>Condition Attracting Rodents</td>\n",
       "      <td>Vacant Lot</td>\n",
       "      <td>10027</td>\n",
       "      <td>WEST 124 STREET</td>\n",
       "      <td>...</td>\n",
       "      <td>NaN</td>\n",
       "      <td>NaN</td>\n",
       "      <td>NaN</td>\n",
       "      <td>NaN</td>\n",
       "      <td>NaN</td>\n",
       "      <td>NaN</td>\n",
       "      <td>NaN</td>\n",
       "      <td>40.807691</td>\n",
       "      <td>-73.947387</td>\n",
       "      <td>(40.80769092704951, -73.94738703491433)</td>\n",
       "    </tr>\n",
       "    <tr>\n",
       "      <th>5</th>\n",
       "      <td>26592370</td>\n",
       "      <td>10/31/2013 01:46:52 AM</td>\n",
       "      <td>NaN</td>\n",
       "      <td>NYPD</td>\n",
       "      <td>New York City Police Department</td>\n",
       "      <td>Noise - Commercial</td>\n",
       "      <td>Banging/Pounding</td>\n",
       "      <td>Club/Bar/Restaurant</td>\n",
       "      <td>11372</td>\n",
       "      <td>37 AVENUE</td>\n",
       "      <td>...</td>\n",
       "      <td>NaN</td>\n",
       "      <td>NaN</td>\n",
       "      <td>NaN</td>\n",
       "      <td>NaN</td>\n",
       "      <td>NaN</td>\n",
       "      <td>NaN</td>\n",
       "      <td>NaN</td>\n",
       "      <td>40.749989</td>\n",
       "      <td>-73.881988</td>\n",
       "      <td>(40.7499893014072, -73.88198770727831)</td>\n",
       "    </tr>\n",
       "    <tr>\n",
       "      <th>6</th>\n",
       "      <td>26595682</td>\n",
       "      <td>10/31/2013 01:46:40 AM</td>\n",
       "      <td>NaN</td>\n",
       "      <td>NYPD</td>\n",
       "      <td>New York City Police Department</td>\n",
       "      <td>Blocked Driveway</td>\n",
       "      <td>No Access</td>\n",
       "      <td>Street/Sidewalk</td>\n",
       "      <td>11419</td>\n",
       "      <td>107-50 109 STREET</td>\n",
       "      <td>...</td>\n",
       "      <td>NaN</td>\n",
       "      <td>NaN</td>\n",
       "      <td>NaN</td>\n",
       "      <td>NaN</td>\n",
       "      <td>NaN</td>\n",
       "      <td>NaN</td>\n",
       "      <td>NaN</td>\n",
       "      <td>40.681533</td>\n",
       "      <td>-73.831737</td>\n",
       "      <td>(40.68153278675525, -73.83173699701601)</td>\n",
       "    </tr>\n",
       "    <tr>\n",
       "      <th>7</th>\n",
       "      <td>26595195</td>\n",
       "      <td>10/31/2013 01:44:19 AM</td>\n",
       "      <td>10/31/2013 01:58:49 AM</td>\n",
       "      <td>NYPD</td>\n",
       "      <td>New York City Police Department</td>\n",
       "      <td>Noise - Commercial</td>\n",
       "      <td>Loud Music/Party</td>\n",
       "      <td>Club/Bar/Restaurant</td>\n",
       "      <td>11417</td>\n",
       "      <td>137-09 CROSSBAY BOULEVARD</td>\n",
       "      <td>...</td>\n",
       "      <td>NaN</td>\n",
       "      <td>NaN</td>\n",
       "      <td>NaN</td>\n",
       "      <td>NaN</td>\n",
       "      <td>NaN</td>\n",
       "      <td>NaN</td>\n",
       "      <td>NaN</td>\n",
       "      <td>40.671816</td>\n",
       "      <td>-73.843092</td>\n",
       "      <td>(40.67181584567338, -73.84309181950769)</td>\n",
       "    </tr>\n",
       "    <tr>\n",
       "      <th>8</th>\n",
       "      <td>26590540</td>\n",
       "      <td>10/31/2013 01:44:14 AM</td>\n",
       "      <td>10/31/2013 02:28:04 AM</td>\n",
       "      <td>NYPD</td>\n",
       "      <td>New York City Police Department</td>\n",
       "      <td>Noise - Commercial</td>\n",
       "      <td>Loud Talking</td>\n",
       "      <td>Club/Bar/Restaurant</td>\n",
       "      <td>10011</td>\n",
       "      <td>258 WEST 15 STREET</td>\n",
       "      <td>...</td>\n",
       "      <td>NaN</td>\n",
       "      <td>NaN</td>\n",
       "      <td>NaN</td>\n",
       "      <td>NaN</td>\n",
       "      <td>NaN</td>\n",
       "      <td>NaN</td>\n",
       "      <td>NaN</td>\n",
       "      <td>40.739913</td>\n",
       "      <td>-74.000790</td>\n",
       "      <td>(40.73991339303542, -74.00079028612932)</td>\n",
       "    </tr>\n",
       "    <tr>\n",
       "      <th>9</th>\n",
       "      <td>26594392</td>\n",
       "      <td>10/31/2013 01:34:41 AM</td>\n",
       "      <td>10/31/2013 02:23:51 AM</td>\n",
       "      <td>NYPD</td>\n",
       "      <td>New York City Police Department</td>\n",
       "      <td>Noise - Commercial</td>\n",
       "      <td>Loud Music/Party</td>\n",
       "      <td>Club/Bar/Restaurant</td>\n",
       "      <td>11225</td>\n",
       "      <td>835 NOSTRAND AVENUE</td>\n",
       "      <td>...</td>\n",
       "      <td>NaN</td>\n",
       "      <td>NaN</td>\n",
       "      <td>NaN</td>\n",
       "      <td>NaN</td>\n",
       "      <td>NaN</td>\n",
       "      <td>NaN</td>\n",
       "      <td>NaN</td>\n",
       "      <td>40.668204</td>\n",
       "      <td>-73.950648</td>\n",
       "      <td>(40.66820406598287, -73.95064760056546)</td>\n",
       "    </tr>\n",
       "  </tbody>\n",
       "</table>\n",
       "<p>10 rows × 52 columns</p>\n",
       "</div>"
      ],
      "text/plain": [
       "   Unique Key            Created Date             Closed Date Agency  \\\n",
       "0    26589651  10/31/2013 02:08:41 AM                     NaN   NYPD   \n",
       "1    26593698  10/31/2013 02:01:04 AM                     NaN   NYPD   \n",
       "2    26594139  10/31/2013 02:00:24 AM  10/31/2013 02:40:32 AM   NYPD   \n",
       "3    26595721  10/31/2013 01:56:23 AM  10/31/2013 02:21:48 AM   NYPD   \n",
       "4    26590930  10/31/2013 01:53:44 AM                     NaN  DOHMH   \n",
       "5    26592370  10/31/2013 01:46:52 AM                     NaN   NYPD   \n",
       "6    26595682  10/31/2013 01:46:40 AM                     NaN   NYPD   \n",
       "7    26595195  10/31/2013 01:44:19 AM  10/31/2013 01:58:49 AM   NYPD   \n",
       "8    26590540  10/31/2013 01:44:14 AM  10/31/2013 02:28:04 AM   NYPD   \n",
       "9    26594392  10/31/2013 01:34:41 AM  10/31/2013 02:23:51 AM   NYPD   \n",
       "\n",
       "                               Agency Name           Complaint Type  \\\n",
       "0          New York City Police Department  Noise - Street/Sidewalk   \n",
       "1          New York City Police Department          Illegal Parking   \n",
       "2          New York City Police Department       Noise - Commercial   \n",
       "3          New York City Police Department          Noise - Vehicle   \n",
       "4  Department of Health and Mental Hygiene                   Rodent   \n",
       "5          New York City Police Department       Noise - Commercial   \n",
       "6          New York City Police Department         Blocked Driveway   \n",
       "7          New York City Police Department       Noise - Commercial   \n",
       "8          New York City Police Department       Noise - Commercial   \n",
       "9          New York City Police Department       Noise - Commercial   \n",
       "\n",
       "                     Descriptor        Location Type Incident Zip  \\\n",
       "0                  Loud Talking      Street/Sidewalk        11432   \n",
       "1  Commercial Overnight Parking      Street/Sidewalk        11378   \n",
       "2              Loud Music/Party  Club/Bar/Restaurant        10032   \n",
       "3                Car/Truck Horn      Street/Sidewalk        10023   \n",
       "4  Condition Attracting Rodents           Vacant Lot        10027   \n",
       "5              Banging/Pounding  Club/Bar/Restaurant        11372   \n",
       "6                     No Access      Street/Sidewalk        11419   \n",
       "7              Loud Music/Party  Club/Bar/Restaurant        11417   \n",
       "8                  Loud Talking  Club/Bar/Restaurant        10011   \n",
       "9              Loud Music/Party  Club/Bar/Restaurant        11225   \n",
       "\n",
       "            Incident Address                    ...                     \\\n",
       "0           90-03 169 STREET                    ...                      \n",
       "1                  58 AVENUE                    ...                      \n",
       "2              4060 BROADWAY                    ...                      \n",
       "3             WEST 72 STREET                    ...                      \n",
       "4            WEST 124 STREET                    ...                      \n",
       "5                  37 AVENUE                    ...                      \n",
       "6          107-50 109 STREET                    ...                      \n",
       "7  137-09 CROSSBAY BOULEVARD                    ...                      \n",
       "8         258 WEST 15 STREET                    ...                      \n",
       "9        835 NOSTRAND AVENUE                    ...                      \n",
       "\n",
       "  Bridge Highway Name Bridge Highway Direction Road Ramp  \\\n",
       "0                 NaN                      NaN       NaN   \n",
       "1                 NaN                      NaN       NaN   \n",
       "2                 NaN                      NaN       NaN   \n",
       "3                 NaN                      NaN       NaN   \n",
       "4                 NaN                      NaN       NaN   \n",
       "5                 NaN                      NaN       NaN   \n",
       "6                 NaN                      NaN       NaN   \n",
       "7                 NaN                      NaN       NaN   \n",
       "8                 NaN                      NaN       NaN   \n",
       "9                 NaN                      NaN       NaN   \n",
       "\n",
       "  Bridge Highway Segment Garage Lot Name Ferry Direction Ferry Terminal Name  \\\n",
       "0                    NaN             NaN             NaN                 NaN   \n",
       "1                    NaN             NaN             NaN                 NaN   \n",
       "2                    NaN             NaN             NaN                 NaN   \n",
       "3                    NaN             NaN             NaN                 NaN   \n",
       "4                    NaN             NaN             NaN                 NaN   \n",
       "5                    NaN             NaN             NaN                 NaN   \n",
       "6                    NaN             NaN             NaN                 NaN   \n",
       "7                    NaN             NaN             NaN                 NaN   \n",
       "8                    NaN             NaN             NaN                 NaN   \n",
       "9                    NaN             NaN             NaN                 NaN   \n",
       "\n",
       "    Latitude  Longitude                                  Location  \n",
       "0  40.708275 -73.791604   (40.70827532593202, -73.79160395779721)  \n",
       "1  40.721041 -73.909453  (40.721040535628305, -73.90945306791765)  \n",
       "2  40.843330 -73.939144   (40.84332975466513, -73.93914371913482)  \n",
       "3  40.778009 -73.980213    (40.7780087446372, -73.98021349023975)  \n",
       "4  40.807691 -73.947387   (40.80769092704951, -73.94738703491433)  \n",
       "5  40.749989 -73.881988    (40.7499893014072, -73.88198770727831)  \n",
       "6  40.681533 -73.831737   (40.68153278675525, -73.83173699701601)  \n",
       "7  40.671816 -73.843092   (40.67181584567338, -73.84309181950769)  \n",
       "8  40.739913 -74.000790   (40.73991339303542, -74.00079028612932)  \n",
       "9  40.668204 -73.950648   (40.66820406598287, -73.95064760056546)  \n",
       "\n",
       "[10 rows x 52 columns]"
      ]
     },
     "execution_count": 12,
     "metadata": {},
     "output_type": "execute_result"
    }
   ],
   "source": [
    "complaints.head(10)"
   ]
  },
  {
   "cell_type": "code",
   "execution_count": 13,
   "metadata": {
    "collapsed": false
   },
   "outputs": [
    {
     "data": {
      "text/plain": [
       "(111069, 52)"
      ]
     },
     "execution_count": 13,
     "metadata": {},
     "output_type": "execute_result"
    }
   ],
   "source": [
    "complaints.shape"
   ]
  },
  {
   "cell_type": "code",
   "execution_count": 14,
   "metadata": {
    "collapsed": false
   },
   "outputs": [
    {
     "data": {
      "text/plain": [
       "0    Noise - Street/Sidewalk\n",
       "1            Illegal Parking\n",
       "2         Noise - Commercial\n",
       "3            Noise - Vehicle\n",
       "4                     Rodent\n",
       "5         Noise - Commercial\n",
       "6           Blocked Driveway\n",
       "7         Noise - Commercial\n",
       "8         Noise - Commercial\n",
       "9         Noise - Commercial\n",
       "Name: Complaint Type, dtype: object"
      ]
     },
     "execution_count": 14,
     "metadata": {},
     "output_type": "execute_result"
    }
   ],
   "source": [
    "complaints['Complaint Type'][:10]"
   ]
  },
  {
   "cell_type": "markdown",
   "metadata": {},
   "source": [
    "## 2.1 Selecting multiple columns"
   ]
  },
  {
   "cell_type": "code",
   "execution_count": 25,
   "metadata": {
    "collapsed": false
   },
   "outputs": [
    {
     "data": {
      "text/html": [
       "<div>\n",
       "<table border=\"1\" class=\"dataframe\">\n",
       "  <thead>\n",
       "    <tr style=\"text-align: right;\">\n",
       "      <th></th>\n",
       "      <th>Complaint Type</th>\n",
       "      <th>Borough</th>\n",
       "    </tr>\n",
       "  </thead>\n",
       "  <tbody>\n",
       "    <tr>\n",
       "      <th>0</th>\n",
       "      <td>Noise - Street/Sidewalk</td>\n",
       "      <td>QUEENS</td>\n",
       "    </tr>\n",
       "    <tr>\n",
       "      <th>1</th>\n",
       "      <td>Illegal Parking</td>\n",
       "      <td>QUEENS</td>\n",
       "    </tr>\n",
       "    <tr>\n",
       "      <th>2</th>\n",
       "      <td>Noise - Commercial</td>\n",
       "      <td>MANHATTAN</td>\n",
       "    </tr>\n",
       "    <tr>\n",
       "      <th>3</th>\n",
       "      <td>Noise - Vehicle</td>\n",
       "      <td>MANHATTAN</td>\n",
       "    </tr>\n",
       "    <tr>\n",
       "      <th>4</th>\n",
       "      <td>Rodent</td>\n",
       "      <td>MANHATTAN</td>\n",
       "    </tr>\n",
       "    <tr>\n",
       "      <th>5</th>\n",
       "      <td>Noise - Commercial</td>\n",
       "      <td>QUEENS</td>\n",
       "    </tr>\n",
       "    <tr>\n",
       "      <th>6</th>\n",
       "      <td>Blocked Driveway</td>\n",
       "      <td>QUEENS</td>\n",
       "    </tr>\n",
       "    <tr>\n",
       "      <th>7</th>\n",
       "      <td>Noise - Commercial</td>\n",
       "      <td>QUEENS</td>\n",
       "    </tr>\n",
       "    <tr>\n",
       "      <th>8</th>\n",
       "      <td>Noise - Commercial</td>\n",
       "      <td>MANHATTAN</td>\n",
       "    </tr>\n",
       "    <tr>\n",
       "      <th>9</th>\n",
       "      <td>Noise - Commercial</td>\n",
       "      <td>BROOKLYN</td>\n",
       "    </tr>\n",
       "    <tr>\n",
       "      <th>10</th>\n",
       "      <td>Noise - House of Worship</td>\n",
       "      <td>BROOKLYN</td>\n",
       "    </tr>\n",
       "    <tr>\n",
       "      <th>11</th>\n",
       "      <td>Noise - Commercial</td>\n",
       "      <td>MANHATTAN</td>\n",
       "    </tr>\n",
       "    <tr>\n",
       "      <th>12</th>\n",
       "      <td>Illegal Parking</td>\n",
       "      <td>MANHATTAN</td>\n",
       "    </tr>\n",
       "    <tr>\n",
       "      <th>13</th>\n",
       "      <td>Noise - Vehicle</td>\n",
       "      <td>BRONX</td>\n",
       "    </tr>\n",
       "    <tr>\n",
       "      <th>14</th>\n",
       "      <td>Rodent</td>\n",
       "      <td>BROOKLYN</td>\n",
       "    </tr>\n",
       "    <tr>\n",
       "      <th>15</th>\n",
       "      <td>Noise - House of Worship</td>\n",
       "      <td>MANHATTAN</td>\n",
       "    </tr>\n",
       "    <tr>\n",
       "      <th>16</th>\n",
       "      <td>Noise - Street/Sidewalk</td>\n",
       "      <td>STATEN ISLAND</td>\n",
       "    </tr>\n",
       "    <tr>\n",
       "      <th>17</th>\n",
       "      <td>Illegal Parking</td>\n",
       "      <td>BROOKLYN</td>\n",
       "    </tr>\n",
       "    <tr>\n",
       "      <th>18</th>\n",
       "      <td>Street Light Condition</td>\n",
       "      <td>BROOKLYN</td>\n",
       "    </tr>\n",
       "    <tr>\n",
       "      <th>19</th>\n",
       "      <td>Noise - Commercial</td>\n",
       "      <td>MANHATTAN</td>\n",
       "    </tr>\n",
       "    <tr>\n",
       "      <th>20</th>\n",
       "      <td>Noise - House of Worship</td>\n",
       "      <td>BROOKLYN</td>\n",
       "    </tr>\n",
       "    <tr>\n",
       "      <th>21</th>\n",
       "      <td>Noise - Commercial</td>\n",
       "      <td>MANHATTAN</td>\n",
       "    </tr>\n",
       "    <tr>\n",
       "      <th>22</th>\n",
       "      <td>Noise - Vehicle</td>\n",
       "      <td>QUEENS</td>\n",
       "    </tr>\n",
       "    <tr>\n",
       "      <th>23</th>\n",
       "      <td>Noise - Commercial</td>\n",
       "      <td>BROOKLYN</td>\n",
       "    </tr>\n",
       "    <tr>\n",
       "      <th>24</th>\n",
       "      <td>Blocked Driveway</td>\n",
       "      <td>STATEN ISLAND</td>\n",
       "    </tr>\n",
       "    <tr>\n",
       "      <th>25</th>\n",
       "      <td>Noise - Street/Sidewalk</td>\n",
       "      <td>STATEN ISLAND</td>\n",
       "    </tr>\n",
       "    <tr>\n",
       "      <th>26</th>\n",
       "      <td>Street Light Condition</td>\n",
       "      <td>BROOKLYN</td>\n",
       "    </tr>\n",
       "    <tr>\n",
       "      <th>27</th>\n",
       "      <td>Harboring Bees/Wasps</td>\n",
       "      <td>MANHATTAN</td>\n",
       "    </tr>\n",
       "    <tr>\n",
       "      <th>28</th>\n",
       "      <td>Noise - Street/Sidewalk</td>\n",
       "      <td>MANHATTAN</td>\n",
       "    </tr>\n",
       "    <tr>\n",
       "      <th>29</th>\n",
       "      <td>Street Light Condition</td>\n",
       "      <td>STATEN ISLAND</td>\n",
       "    </tr>\n",
       "    <tr>\n",
       "      <th>...</th>\n",
       "      <td>...</td>\n",
       "      <td>...</td>\n",
       "    </tr>\n",
       "    <tr>\n",
       "      <th>111039</th>\n",
       "      <td>Noise - Commercial</td>\n",
       "      <td>MANHATTAN</td>\n",
       "    </tr>\n",
       "    <tr>\n",
       "      <th>111040</th>\n",
       "      <td>Noise - Commercial</td>\n",
       "      <td>MANHATTAN</td>\n",
       "    </tr>\n",
       "    <tr>\n",
       "      <th>111041</th>\n",
       "      <td>Noise</td>\n",
       "      <td>BROOKLYN</td>\n",
       "    </tr>\n",
       "    <tr>\n",
       "      <th>111042</th>\n",
       "      <td>Noise - Street/Sidewalk</td>\n",
       "      <td>MANHATTAN</td>\n",
       "    </tr>\n",
       "    <tr>\n",
       "      <th>111043</th>\n",
       "      <td>Noise - Commercial</td>\n",
       "      <td>BROOKLYN</td>\n",
       "    </tr>\n",
       "    <tr>\n",
       "      <th>111044</th>\n",
       "      <td>Noise - Street/Sidewalk</td>\n",
       "      <td>MANHATTAN</td>\n",
       "    </tr>\n",
       "    <tr>\n",
       "      <th>111045</th>\n",
       "      <td>Water System</td>\n",
       "      <td>MANHATTAN</td>\n",
       "    </tr>\n",
       "    <tr>\n",
       "      <th>111046</th>\n",
       "      <td>Noise</td>\n",
       "      <td>BROOKLYN</td>\n",
       "    </tr>\n",
       "    <tr>\n",
       "      <th>111047</th>\n",
       "      <td>Illegal Parking</td>\n",
       "      <td>QUEENS</td>\n",
       "    </tr>\n",
       "    <tr>\n",
       "      <th>111048</th>\n",
       "      <td>Noise - Street/Sidewalk</td>\n",
       "      <td>MANHATTAN</td>\n",
       "    </tr>\n",
       "    <tr>\n",
       "      <th>111049</th>\n",
       "      <td>Noise - Commercial</td>\n",
       "      <td>BROOKLYN</td>\n",
       "    </tr>\n",
       "    <tr>\n",
       "      <th>111050</th>\n",
       "      <td>Noise</td>\n",
       "      <td>MANHATTAN</td>\n",
       "    </tr>\n",
       "    <tr>\n",
       "      <th>111051</th>\n",
       "      <td>Noise - Commercial</td>\n",
       "      <td>MANHATTAN</td>\n",
       "    </tr>\n",
       "    <tr>\n",
       "      <th>111052</th>\n",
       "      <td>Water System</td>\n",
       "      <td>MANHATTAN</td>\n",
       "    </tr>\n",
       "    <tr>\n",
       "      <th>111053</th>\n",
       "      <td>Derelict Vehicles</td>\n",
       "      <td>QUEENS</td>\n",
       "    </tr>\n",
       "    <tr>\n",
       "      <th>111054</th>\n",
       "      <td>Noise - Street/Sidewalk</td>\n",
       "      <td>BROOKLYN</td>\n",
       "    </tr>\n",
       "    <tr>\n",
       "      <th>111055</th>\n",
       "      <td>Noise - Commercial</td>\n",
       "      <td>BROOKLYN</td>\n",
       "    </tr>\n",
       "    <tr>\n",
       "      <th>111056</th>\n",
       "      <td>Street Sign - Missing</td>\n",
       "      <td>QUEENS</td>\n",
       "    </tr>\n",
       "    <tr>\n",
       "      <th>111057</th>\n",
       "      <td>Noise</td>\n",
       "      <td>MANHATTAN</td>\n",
       "    </tr>\n",
       "    <tr>\n",
       "      <th>111058</th>\n",
       "      <td>Noise - Commercial</td>\n",
       "      <td>BROOKLYN</td>\n",
       "    </tr>\n",
       "    <tr>\n",
       "      <th>111059</th>\n",
       "      <td>Noise - Street/Sidewalk</td>\n",
       "      <td>MANHATTAN</td>\n",
       "    </tr>\n",
       "    <tr>\n",
       "      <th>111060</th>\n",
       "      <td>Noise</td>\n",
       "      <td>MANHATTAN</td>\n",
       "    </tr>\n",
       "    <tr>\n",
       "      <th>111061</th>\n",
       "      <td>Noise - Commercial</td>\n",
       "      <td>QUEENS</td>\n",
       "    </tr>\n",
       "    <tr>\n",
       "      <th>111062</th>\n",
       "      <td>Water System</td>\n",
       "      <td>MANHATTAN</td>\n",
       "    </tr>\n",
       "    <tr>\n",
       "      <th>111063</th>\n",
       "      <td>Water System</td>\n",
       "      <td>MANHATTAN</td>\n",
       "    </tr>\n",
       "    <tr>\n",
       "      <th>111064</th>\n",
       "      <td>Maintenance or Facility</td>\n",
       "      <td>BROOKLYN</td>\n",
       "    </tr>\n",
       "    <tr>\n",
       "      <th>111065</th>\n",
       "      <td>Illegal Parking</td>\n",
       "      <td>QUEENS</td>\n",
       "    </tr>\n",
       "    <tr>\n",
       "      <th>111066</th>\n",
       "      <td>Noise - Street/Sidewalk</td>\n",
       "      <td>MANHATTAN</td>\n",
       "    </tr>\n",
       "    <tr>\n",
       "      <th>111067</th>\n",
       "      <td>Noise - Commercial</td>\n",
       "      <td>BROOKLYN</td>\n",
       "    </tr>\n",
       "    <tr>\n",
       "      <th>111068</th>\n",
       "      <td>Blocked Driveway</td>\n",
       "      <td>BROOKLYN</td>\n",
       "    </tr>\n",
       "  </tbody>\n",
       "</table>\n",
       "<p>111069 rows × 2 columns</p>\n",
       "</div>"
      ],
      "text/plain": [
       "                  Complaint Type        Borough\n",
       "0        Noise - Street/Sidewalk         QUEENS\n",
       "1                Illegal Parking         QUEENS\n",
       "2             Noise - Commercial      MANHATTAN\n",
       "3                Noise - Vehicle      MANHATTAN\n",
       "4                         Rodent      MANHATTAN\n",
       "5             Noise - Commercial         QUEENS\n",
       "6               Blocked Driveway         QUEENS\n",
       "7             Noise - Commercial         QUEENS\n",
       "8             Noise - Commercial      MANHATTAN\n",
       "9             Noise - Commercial       BROOKLYN\n",
       "10      Noise - House of Worship       BROOKLYN\n",
       "11            Noise - Commercial      MANHATTAN\n",
       "12               Illegal Parking      MANHATTAN\n",
       "13               Noise - Vehicle          BRONX\n",
       "14                        Rodent       BROOKLYN\n",
       "15      Noise - House of Worship      MANHATTAN\n",
       "16       Noise - Street/Sidewalk  STATEN ISLAND\n",
       "17               Illegal Parking       BROOKLYN\n",
       "18        Street Light Condition       BROOKLYN\n",
       "19            Noise - Commercial      MANHATTAN\n",
       "20      Noise - House of Worship       BROOKLYN\n",
       "21            Noise - Commercial      MANHATTAN\n",
       "22               Noise - Vehicle         QUEENS\n",
       "23            Noise - Commercial       BROOKLYN\n",
       "24              Blocked Driveway  STATEN ISLAND\n",
       "25       Noise - Street/Sidewalk  STATEN ISLAND\n",
       "26        Street Light Condition       BROOKLYN\n",
       "27          Harboring Bees/Wasps      MANHATTAN\n",
       "28       Noise - Street/Sidewalk      MANHATTAN\n",
       "29        Street Light Condition  STATEN ISLAND\n",
       "...                          ...            ...\n",
       "111039        Noise - Commercial      MANHATTAN\n",
       "111040        Noise - Commercial      MANHATTAN\n",
       "111041                     Noise       BROOKLYN\n",
       "111042   Noise - Street/Sidewalk      MANHATTAN\n",
       "111043        Noise - Commercial       BROOKLYN\n",
       "111044   Noise - Street/Sidewalk      MANHATTAN\n",
       "111045              Water System      MANHATTAN\n",
       "111046                     Noise       BROOKLYN\n",
       "111047           Illegal Parking         QUEENS\n",
       "111048   Noise - Street/Sidewalk      MANHATTAN\n",
       "111049        Noise - Commercial       BROOKLYN\n",
       "111050                     Noise      MANHATTAN\n",
       "111051        Noise - Commercial      MANHATTAN\n",
       "111052              Water System      MANHATTAN\n",
       "111053         Derelict Vehicles         QUEENS\n",
       "111054   Noise - Street/Sidewalk       BROOKLYN\n",
       "111055        Noise - Commercial       BROOKLYN\n",
       "111056     Street Sign - Missing         QUEENS\n",
       "111057                     Noise      MANHATTAN\n",
       "111058        Noise - Commercial       BROOKLYN\n",
       "111059   Noise - Street/Sidewalk      MANHATTAN\n",
       "111060                     Noise      MANHATTAN\n",
       "111061        Noise - Commercial         QUEENS\n",
       "111062              Water System      MANHATTAN\n",
       "111063              Water System      MANHATTAN\n",
       "111064   Maintenance or Facility       BROOKLYN\n",
       "111065           Illegal Parking         QUEENS\n",
       "111066   Noise - Street/Sidewalk      MANHATTAN\n",
       "111067        Noise - Commercial       BROOKLYN\n",
       "111068          Blocked Driveway       BROOKLYN\n",
       "\n",
       "[111069 rows x 2 columns]"
      ]
     },
     "execution_count": 25,
     "metadata": {},
     "output_type": "execute_result"
    }
   ],
   "source": [
    "complaints[['Complaint Type', 'Borough']]"
   ]
  },
  {
   "cell_type": "markdown",
   "metadata": {},
   "source": [
    "## 2.2 What's the most frequent complaint type ?"
   ]
  },
  {
   "cell_type": "code",
   "execution_count": 15,
   "metadata": {
    "collapsed": false
   },
   "outputs": [
    {
     "data": {
      "text/plain": [
       "HEATING                                 14200\n",
       "GENERAL CONSTRUCTION                     7471\n",
       "Street Light Condition                   7117\n",
       "DOF Literature Request                   5797\n",
       "PLUMBING                                 5373\n",
       "PAINT - PLASTER                          5149\n",
       "Blocked Driveway                         4590\n",
       "NONCONST                                 3998\n",
       "Street Condition                         3473\n",
       "Illegal Parking                          3343\n",
       "Noise                                    3321\n",
       "Traffic Signal Condition                 3145\n",
       "Dirty Conditions                         2653\n",
       "Water System                             2636\n",
       "Noise - Commercial                       2578\n",
       "ELECTRIC                                 2350\n",
       "Broken Muni Meter                        2070\n",
       "Noise - Street/Sidewalk                  1928\n",
       "Sanitation Condition                     1824\n",
       "Rodent                                   1632\n",
       "Sewer                                    1627\n",
       "Consumer Complaint                       1227\n",
       "Taxi Complaint                           1227\n",
       "Damaged Tree                             1180\n",
       "Overgrown Tree/Branches                  1083\n",
       "Graffiti                                  973\n",
       "Missed Collection (All Materials)         973\n",
       "Building/Use                              942\n",
       "Root/Sewer/Sidewalk Condition             836\n",
       "Derelict Vehicle                          803\n",
       "                                        ...  \n",
       "Miscellaneous Categories                    5\n",
       "Internal Code                               5\n",
       "Poison Ivy                                  5\n",
       "Posting Advertisement                       5\n",
       "Fire Alarm - Modification                   5\n",
       "Special Natural Area District (SNAD)        4\n",
       "Transportation Provider Complaint           4\n",
       "Illegal Animal Sold                         4\n",
       "Ferry Complaint                             4\n",
       "Adopt-A-Basket                              3\n",
       "Invitation                                  3\n",
       "Illegal Fireworks                           3\n",
       "Fire Alarm - Replacement                    3\n",
       "Public Assembly                             2\n",
       "Legal Services Provider Complaint           2\n",
       "Window Guard                                2\n",
       "Opinion for the Mayor                       2\n",
       "Misc. Comments                              2\n",
       "DFTA Literature Request                     2\n",
       "Ferry Permit                                1\n",
       "X-Ray Machine/Equipment                     1\n",
       "Open Flame Permit                           1\n",
       "Snow                                        1\n",
       "Municipal Parking Facility                  1\n",
       "Stalled Sites                               1\n",
       "Highway Sign - Damaged                      1\n",
       "Trans Fat                                   1\n",
       "DWD                                         1\n",
       "Tunnel Condition                            1\n",
       "DHS Income Savings Requirement              1\n",
       "Name: Complaint Type, dtype: int64"
      ]
     },
     "execution_count": 15,
     "metadata": {},
     "output_type": "execute_result"
    }
   ],
   "source": [
    "complaints['Complaint Type'].value_counts()"
   ]
  },
  {
   "cell_type": "markdown",
   "metadata": {
    "collapsed": true
   },
   "source": [
    "## Let's Plot them"
   ]
  },
  {
   "cell_type": "code",
   "execution_count": 17,
   "metadata": {
    "collapsed": false
   },
   "outputs": [
    {
     "data": {
      "text/plain": [
       "HEATING                     14200\n",
       "GENERAL CONSTRUCTION         7471\n",
       "Street Light Condition       7117\n",
       "DOF Literature Request       5797\n",
       "PLUMBING                     5373\n",
       "PAINT - PLASTER              5149\n",
       "Blocked Driveway             4590\n",
       "NONCONST                     3998\n",
       "Street Condition             3473\n",
       "Illegal Parking              3343\n",
       "Noise                        3321\n",
       "Traffic Signal Condition     3145\n",
       "Name: Complaint Type, dtype: int64"
      ]
     },
     "execution_count": 17,
     "metadata": {},
     "output_type": "execute_result"
    }
   ],
   "source": [
    "complaint_counts = complaints['Complaint Type'].value_counts()\n",
    "complaint_counts[:12]"
   ]
  },
  {
   "cell_type": "code",
   "execution_count": 18,
   "metadata": {
    "collapsed": false
   },
   "outputs": [
    {
     "data": {
      "text/plain": [
       "<matplotlib.axes._subplots.AxesSubplot at 0x1132c9e48>"
      ]
     },
     "execution_count": 18,
     "metadata": {},
     "output_type": "execute_result"
    },
    {
     "data": {
      "image/png": "[encoded data removed]",
      "text/plain": [
       "<matplotlib.figure.Figure at 0x1132c93c8>"
      ]
     },
     "metadata": {},
     "output_type": "display_data"
    }
   ],
   "source": [
    "complaint_counts[:20].plot(kind='bar')"
   ]
  },
  {
   "cell_type": "markdown",
   "metadata": {},
   "source": [
    "## 2.3 So if we wanna know where complaints most about 'Noice'"
   ]
  },
  {
   "cell_type": "code",
   "execution_count": 19,
   "metadata": {
    "collapsed": false
   },
   "outputs": [],
   "source": [
    "complaints_noice=complaints[complaints['Complaint Type']== 'Noise']"
   ]
  },
  {
   "cell_type": "code",
   "execution_count": 20,
   "metadata": {
    "collapsed": false
   },
   "outputs": [
    {
     "data": {
      "text/plain": [
       "(3321, 52)"
      ]
     },
     "execution_count": 20,
     "metadata": {},
     "output_type": "execute_result"
    }
   ],
   "source": [
    "complaints_noice.shape"
   ]
  },
  {
   "cell_type": "code",
   "execution_count": 21,
   "metadata": {
    "collapsed": false
   },
   "outputs": [
    {
     "data": {
      "text/html": [
       "<div>\n",
       "<table border=\"1\" class=\"dataframe\">\n",
       "  <thead>\n",
       "    <tr style=\"text-align: right;\">\n",
       "      <th></th>\n",
       "      <th>Unique Key</th>\n",
       "      <th>Created Date</th>\n",
       "      <th>Closed Date</th>\n",
       "      <th>Agency</th>\n",
       "      <th>Agency Name</th>\n",
       "      <th>Complaint Type</th>\n",
       "      <th>Descriptor</th>\n",
       "      <th>Location Type</th>\n",
       "      <th>Incident Zip</th>\n",
       "      <th>Incident Address</th>\n",
       "      <th>...</th>\n",
       "      <th>Bridge Highway Name</th>\n",
       "      <th>Bridge Highway Direction</th>\n",
       "      <th>Road Ramp</th>\n",
       "      <th>Bridge Highway Segment</th>\n",
       "      <th>Garage Lot Name</th>\n",
       "      <th>Ferry Direction</th>\n",
       "      <th>Ferry Terminal Name</th>\n",
       "      <th>Latitude</th>\n",
       "      <th>Longitude</th>\n",
       "      <th>Location</th>\n",
       "    </tr>\n",
       "  </thead>\n",
       "  <tbody>\n",
       "    <tr>\n",
       "      <th>73</th>\n",
       "      <td>26595413</td>\n",
       "      <td>10/30/2013 11:53:00 PM</td>\n",
       "      <td>NaN</td>\n",
       "      <td>DEP</td>\n",
       "      <td>Department of Environmental Protection</td>\n",
       "      <td>Noise</td>\n",
       "      <td>Noise: Construction Before/After Hours (NM1)</td>\n",
       "      <td>NaN</td>\n",
       "      <td>10007</td>\n",
       "      <td>NaN</td>\n",
       "      <td>...</td>\n",
       "      <td>NaN</td>\n",
       "      <td>NaN</td>\n",
       "      <td>NaN</td>\n",
       "      <td>NaN</td>\n",
       "      <td>NaN</td>\n",
       "      <td>NaN</td>\n",
       "      <td>NaN</td>\n",
       "      <td>40.715520</td>\n",
       "      <td>-74.009238</td>\n",
       "      <td>(40.71552037648501, -74.0092382743091)</td>\n",
       "    </tr>\n",
       "    <tr>\n",
       "      <th>74</th>\n",
       "      <td>26595414</td>\n",
       "      <td>10/30/2013 11:53:00 PM</td>\n",
       "      <td>NaN</td>\n",
       "      <td>DEP</td>\n",
       "      <td>Department of Environmental Protection</td>\n",
       "      <td>Noise</td>\n",
       "      <td>Noise: Construction Before/After Hours (NM1)</td>\n",
       "      <td>NaN</td>\n",
       "      <td>10019</td>\n",
       "      <td>NaN</td>\n",
       "      <td>...</td>\n",
       "      <td>NaN</td>\n",
       "      <td>NaN</td>\n",
       "      <td>NaN</td>\n",
       "      <td>NaN</td>\n",
       "      <td>NaN</td>\n",
       "      <td>NaN</td>\n",
       "      <td>NaN</td>\n",
       "      <td>40.763594</td>\n",
       "      <td>-73.981434</td>\n",
       "      <td>(40.763593576666565, -73.98143430748802)</td>\n",
       "    </tr>\n",
       "    <tr>\n",
       "      <th>79</th>\n",
       "      <td>26589951</td>\n",
       "      <td>10/30/2013 11:47:00 PM</td>\n",
       "      <td>NaN</td>\n",
       "      <td>DEP</td>\n",
       "      <td>Department of Environmental Protection</td>\n",
       "      <td>Noise</td>\n",
       "      <td>Noise: Construction Before/After Hours (NM1)</td>\n",
       "      <td>NaN</td>\n",
       "      <td>10019</td>\n",
       "      <td>NaN</td>\n",
       "      <td>...</td>\n",
       "      <td>NaN</td>\n",
       "      <td>NaN</td>\n",
       "      <td>NaN</td>\n",
       "      <td>NaN</td>\n",
       "      <td>NaN</td>\n",
       "      <td>NaN</td>\n",
       "      <td>NaN</td>\n",
       "      <td>40.763366</td>\n",
       "      <td>-73.982817</td>\n",
       "      <td>(40.76336597756738, -73.98281695619791)</td>\n",
       "    </tr>\n",
       "    <tr>\n",
       "      <th>82</th>\n",
       "      <td>26589027</td>\n",
       "      <td>10/30/2013 11:45:00 PM</td>\n",
       "      <td>NaN</td>\n",
       "      <td>DEP</td>\n",
       "      <td>Department of Environmental Protection</td>\n",
       "      <td>Noise</td>\n",
       "      <td>Noise: Construction Before/After Hours (NM1)</td>\n",
       "      <td>NaN</td>\n",
       "      <td>10023</td>\n",
       "      <td>NaN</td>\n",
       "      <td>...</td>\n",
       "      <td>NaN</td>\n",
       "      <td>NaN</td>\n",
       "      <td>NaN</td>\n",
       "      <td>NaN</td>\n",
       "      <td>NaN</td>\n",
       "      <td>NaN</td>\n",
       "      <td>NaN</td>\n",
       "      <td>40.781750</td>\n",
       "      <td>-73.981065</td>\n",
       "      <td>(40.7817499622558, -73.9810645461519)</td>\n",
       "    </tr>\n",
       "    <tr>\n",
       "      <th>83</th>\n",
       "      <td>26593618</td>\n",
       "      <td>10/30/2013 11:44:00 PM</td>\n",
       "      <td>NaN</td>\n",
       "      <td>DEP</td>\n",
       "      <td>Department of Environmental Protection</td>\n",
       "      <td>Noise</td>\n",
       "      <td>Noise: Construction Before/After Hours (NM1)</td>\n",
       "      <td>NaN</td>\n",
       "      <td>10005</td>\n",
       "      <td>NaN</td>\n",
       "      <td>...</td>\n",
       "      <td>NaN</td>\n",
       "      <td>NaN</td>\n",
       "      <td>NaN</td>\n",
       "      <td>NaN</td>\n",
       "      <td>NaN</td>\n",
       "      <td>NaN</td>\n",
       "      <td>NaN</td>\n",
       "      <td>40.706380</td>\n",
       "      <td>-74.009504</td>\n",
       "      <td>(40.70638029595102, -74.00950391062128)</td>\n",
       "    </tr>\n",
       "  </tbody>\n",
       "</table>\n",
       "<p>5 rows × 52 columns</p>\n",
       "</div>"
      ],
      "text/plain": [
       "    Unique Key            Created Date Closed Date Agency  \\\n",
       "73    26595413  10/30/2013 11:53:00 PM         NaN    DEP   \n",
       "74    26595414  10/30/2013 11:53:00 PM         NaN    DEP   \n",
       "79    26589951  10/30/2013 11:47:00 PM         NaN    DEP   \n",
       "82    26589027  10/30/2013 11:45:00 PM         NaN    DEP   \n",
       "83    26593618  10/30/2013 11:44:00 PM         NaN    DEP   \n",
       "\n",
       "                               Agency Name Complaint Type  \\\n",
       "73  Department of Environmental Protection          Noise   \n",
       "74  Department of Environmental Protection          Noise   \n",
       "79  Department of Environmental Protection          Noise   \n",
       "82  Department of Environmental Protection          Noise   \n",
       "83  Department of Environmental Protection          Noise   \n",
       "\n",
       "                                      Descriptor Location Type Incident Zip  \\\n",
       "73  Noise: Construction Before/After Hours (NM1)           NaN        10007   \n",
       "74  Noise: Construction Before/After Hours (NM1)           NaN        10019   \n",
       "79  Noise: Construction Before/After Hours (NM1)           NaN        10019   \n",
       "82  Noise: Construction Before/After Hours (NM1)           NaN        10023   \n",
       "83  Noise: Construction Before/After Hours (NM1)           NaN        10005   \n",
       "\n",
       "   Incident Address                    ...                     \\\n",
       "73              NaN                    ...                      \n",
       "74              NaN                    ...                      \n",
       "79              NaN                    ...                      \n",
       "82              NaN                    ...                      \n",
       "83              NaN                    ...                      \n",
       "\n",
       "   Bridge Highway Name Bridge Highway Direction Road Ramp  \\\n",
       "73                 NaN                      NaN       NaN   \n",
       "74                 NaN                      NaN       NaN   \n",
       "79                 NaN                      NaN       NaN   \n",
       "82                 NaN                      NaN       NaN   \n",
       "83                 NaN                      NaN       NaN   \n",
       "\n",
       "   Bridge Highway Segment Garage Lot Name Ferry Direction Ferry Terminal Name  \\\n",
       "73                    NaN             NaN             NaN                 NaN   \n",
       "74                    NaN             NaN             NaN                 NaN   \n",
       "79                    NaN             NaN             NaN                 NaN   \n",
       "82                    NaN             NaN             NaN                 NaN   \n",
       "83                    NaN             NaN             NaN                 NaN   \n",
       "\n",
       "     Latitude  Longitude                                  Location  \n",
       "73  40.715520 -74.009238    (40.71552037648501, -74.0092382743091)  \n",
       "74  40.763594 -73.981434  (40.763593576666565, -73.98143430748802)  \n",
       "79  40.763366 -73.982817   (40.76336597756738, -73.98281695619791)  \n",
       "82  40.781750 -73.981065     (40.7817499622558, -73.9810645461519)  \n",
       "83  40.706380 -74.009504   (40.70638029595102, -74.00950391062128)  \n",
       "\n",
       "[5 rows x 52 columns]"
      ]
     },
     "execution_count": 21,
     "metadata": {},
     "output_type": "execute_result"
    }
   ],
   "source": [
    "complaints_noice.head(5)"
   ]
  },
  {
   "cell_type": "code",
   "execution_count": 22,
   "metadata": {
    "collapsed": false
   },
   "outputs": [
    {
     "data": {
      "text/plain": [
       "MANHATTAN        1848\n",
       "BROOKLYN          767\n",
       "QUEENS            418\n",
       "BRONX             168\n",
       "STATEN ISLAND     115\n",
       "Unspecified         5\n",
       "Name: Borough, dtype: int64"
      ]
     },
     "execution_count": 22,
     "metadata": {},
     "output_type": "execute_result"
    }
   ],
   "source": [
    "complaints_noice['Borough'].value_counts()"
   ]
  },
  {
   "cell_type": "code",
   "execution_count": 23,
   "metadata": {
    "collapsed": true
   },
   "outputs": [],
   "source": [
    "noise_complaint_counts = complaints_noice['Borough'].value_counts()\n",
    "complaint_counts = complaints['Borough'].value_counts()"
   ]
  },
  {
   "cell_type": "code",
   "execution_count": 24,
   "metadata": {
    "collapsed": false
   },
   "outputs": [
    {
     "data": {
      "text/plain": [
       "BRONX            0.008534\n",
       "BROOKLYN         0.023320\n",
       "MANHATTAN        0.076087\n",
       "QUEENS           0.018760\n",
       "STATEN ISLAND    0.023874\n",
       "Unspecified      0.000704\n",
       "Name: Borough, dtype: float64"
      ]
     },
     "execution_count": 24,
     "metadata": {},
     "output_type": "execute_result"
    }
   ],
   "source": [
    "noise_complaint_counts / complaint_counts.astype(float)"
   ]
  },
  {
   "cell_type": "code",
   "execution_count": 25,
   "metadata": {
    "collapsed": false
   },
   "outputs": [
    {
     "data": {
      "text/plain": [
       "<matplotlib.axes._subplots.AxesSubplot at 0x1133796d8>"
      ]
     },
     "execution_count": 25,
     "metadata": {},
     "output_type": "execute_result"
    },
    {
     "data": {
      "image/png": "[encoded data removed]",
      "text/plain": [
       "<matplotlib.figure.Figure at 0x1133784a8>"
      ]
     },
     "metadata": {},
     "output_type": "display_data"
    }
   ],
   "source": [
    "(noise_complaint_counts / complaint_counts.astype(float)).plot(kind='bar')"
   ]
  },
  {
   "cell_type": "markdown",
   "metadata": {},
   "source": [
    "# 3.1 so let's back to the bicycle dataset"
   ]
  },
  {
   "cell_type": "code",
   "execution_count": 26,
   "metadata": {
    "collapsed": false
   },
   "outputs": [
    {
     "data": {
      "text/html": [
       "<div>\n",
       "<table border=\"1\" class=\"dataframe\">\n",
       "  <thead>\n",
       "    <tr style=\"text-align: right;\">\n",
       "      <th></th>\n",
       "      <th>Berri 1</th>\n",
       "      <th>Brébeuf (données non disponibles)</th>\n",
       "      <th>Côte-Sainte-Catherine</th>\n",
       "      <th>Maisonneuve 1</th>\n",
       "      <th>Maisonneuve 2</th>\n",
       "      <th>du Parc</th>\n",
       "      <th>Pierre-Dupuy</th>\n",
       "      <th>Rachel1</th>\n",
       "      <th>St-Urbain (données non disponibles)</th>\n",
       "    </tr>\n",
       "    <tr>\n",
       "      <th>Date</th>\n",
       "      <th></th>\n",
       "      <th></th>\n",
       "      <th></th>\n",
       "      <th></th>\n",
       "      <th></th>\n",
       "      <th></th>\n",
       "      <th></th>\n",
       "      <th></th>\n",
       "      <th></th>\n",
       "    </tr>\n",
       "  </thead>\n",
       "  <tbody>\n",
       "    <tr>\n",
       "      <th>2012-01-01</th>\n",
       "      <td>35</td>\n",
       "      <td>NaN</td>\n",
       "      <td>0</td>\n",
       "      <td>38</td>\n",
       "      <td>51</td>\n",
       "      <td>26</td>\n",
       "      <td>10</td>\n",
       "      <td>16</td>\n",
       "      <td>NaN</td>\n",
       "    </tr>\n",
       "    <tr>\n",
       "      <th>2012-01-02</th>\n",
       "      <td>83</td>\n",
       "      <td>NaN</td>\n",
       "      <td>1</td>\n",
       "      <td>68</td>\n",
       "      <td>153</td>\n",
       "      <td>53</td>\n",
       "      <td>6</td>\n",
       "      <td>43</td>\n",
       "      <td>NaN</td>\n",
       "    </tr>\n",
       "    <tr>\n",
       "      <th>2012-01-03</th>\n",
       "      <td>135</td>\n",
       "      <td>NaN</td>\n",
       "      <td>2</td>\n",
       "      <td>104</td>\n",
       "      <td>248</td>\n",
       "      <td>89</td>\n",
       "      <td>3</td>\n",
       "      <td>58</td>\n",
       "      <td>NaN</td>\n",
       "    </tr>\n",
       "    <tr>\n",
       "      <th>2012-01-04</th>\n",
       "      <td>144</td>\n",
       "      <td>NaN</td>\n",
       "      <td>1</td>\n",
       "      <td>116</td>\n",
       "      <td>318</td>\n",
       "      <td>111</td>\n",
       "      <td>8</td>\n",
       "      <td>61</td>\n",
       "      <td>NaN</td>\n",
       "    </tr>\n",
       "    <tr>\n",
       "      <th>2012-01-05</th>\n",
       "      <td>197</td>\n",
       "      <td>NaN</td>\n",
       "      <td>2</td>\n",
       "      <td>124</td>\n",
       "      <td>330</td>\n",
       "      <td>97</td>\n",
       "      <td>13</td>\n",
       "      <td>95</td>\n",
       "      <td>NaN</td>\n",
       "    </tr>\n",
       "  </tbody>\n",
       "</table>\n",
       "</div>"
      ],
      "text/plain": [
       "            Berri 1  Brébeuf (données non disponibles)  Côte-Sainte-Catherine  \\\n",
       "Date                                                                            \n",
       "2012-01-01       35                                NaN                      0   \n",
       "2012-01-02       83                                NaN                      1   \n",
       "2012-01-03      135                                NaN                      2   \n",
       "2012-01-04      144                                NaN                      1   \n",
       "2012-01-05      197                                NaN                      2   \n",
       "\n",
       "            Maisonneuve 1  Maisonneuve 2  du Parc  Pierre-Dupuy  Rachel1  \\\n",
       "Date                                                                       \n",
       "2012-01-01             38             51       26            10       16   \n",
       "2012-01-02             68            153       53             6       43   \n",
       "2012-01-03            104            248       89             3       58   \n",
       "2012-01-04            116            318      111             8       61   \n",
       "2012-01-05            124            330       97            13       95   \n",
       "\n",
       "            St-Urbain (données non disponibles)  \n",
       "Date                                             \n",
       "2012-01-01                                  NaN  \n",
       "2012-01-02                                  NaN  \n",
       "2012-01-03                                  NaN  \n",
       "2012-01-04                                  NaN  \n",
       "2012-01-05                                  NaN  "
      ]
     },
     "execution_count": 26,
     "metadata": {},
     "output_type": "execute_result"
    }
   ],
   "source": [
    "bike_df.head(5)"
   ]
  },
  {
   "cell_type": "code",
   "execution_count": 27,
   "metadata": {
    "collapsed": false
   },
   "outputs": [
    {
     "data": {
      "text/plain": [
       "array([ 1,  2,  3,  4,  5,  6,  7,  8,  9, 10, 11, 12, 13, 14, 15, 16, 17,\n",
       "       18, 19, 20, 21, 22, 23, 24, 25, 26, 27, 28, 29, 30, 31,  1,  2,  3,\n",
       "        4,  5,  6,  7,  8,  9, 10, 11, 12, 13, 14, 15, 16, 17, 18, 19, 20,\n",
       "       21, 22, 23, 24, 25, 26, 27, 28, 29,  1,  2,  3,  4,  5,  6,  7,  8,\n",
       "        9, 10, 11, 12, 13, 14, 15, 16, 17, 18, 19, 20, 21, 22, 23, 24, 25,\n",
       "       26, 27, 28, 29, 30, 31,  1,  2,  3,  4,  5,  6,  7,  8,  9, 10, 11,\n",
       "       12, 13, 14, 15, 16, 17, 18, 19, 20, 21, 22, 23, 24, 25, 26, 27, 28,\n",
       "       29, 30,  1,  2,  3,  4,  5,  6,  7,  8,  9, 10, 11, 12, 13, 14, 15,\n",
       "       16, 17, 18, 19, 20, 21, 22, 23, 24, 25, 26, 27, 28, 29, 30, 31,  1,\n",
       "        2,  3,  4,  5,  6,  7,  8,  9, 10, 11, 12, 13, 14, 15, 16, 17, 18,\n",
       "       19, 20, 21, 22, 23, 24, 25, 26, 27, 28, 29, 30,  1,  2,  3,  4,  5,\n",
       "        6,  7,  8,  9, 10, 11, 12, 13, 14, 15, 16, 17, 18, 19, 20, 21, 22,\n",
       "       23, 24, 25, 26, 27, 28, 29, 30, 31,  1,  2,  3,  4,  5,  6,  7,  8,\n",
       "        9, 10, 11, 12, 13, 14, 15, 16, 17, 18, 19, 20, 21, 22, 23, 24, 25,\n",
       "       26, 27, 28, 29, 30, 31,  1,  2,  3,  4,  5,  6,  7,  8,  9, 10, 11,\n",
       "       12, 13, 14, 15, 16, 17, 18, 19, 20, 21, 22, 23, 24, 25, 26, 27, 28,\n",
       "       29, 30,  1,  2,  3,  4,  5,  6,  7,  8,  9, 10, 11, 12, 13, 14, 15,\n",
       "       16, 17, 18, 19, 20, 21, 22, 23, 24, 25, 26, 27, 28, 29, 30, 31,  1,\n",
       "        2,  3,  4,  5], dtype=int32)"
      ]
     },
     "execution_count": 27,
     "metadata": {},
     "output_type": "execute_result"
    }
   ],
   "source": [
    "bike_df.index.day   #numpy.ndarray type"
   ]
  },
  {
   "cell_type": "code",
   "execution_count": 28,
   "metadata": {
    "collapsed": false
   },
   "outputs": [
    {
     "data": {
      "text/plain": [
       "array([6, 0, 1, 2, 3, 4, 5, 6, 0, 1, 2, 3, 4, 5, 6, 0, 1, 2, 3, 4, 5, 6, 0,\n",
       "       1, 2, 3, 4, 5, 6, 0, 1, 2, 3, 4, 5, 6, 0, 1, 2, 3, 4, 5, 6, 0, 1, 2,\n",
       "       3, 4, 5, 6, 0, 1, 2, 3, 4, 5, 6, 0, 1, 2, 3, 4, 5, 6, 0, 1, 2, 3, 4,\n",
       "       5, 6, 0, 1, 2, 3, 4, 5, 6, 0, 1, 2, 3, 4, 5, 6, 0, 1, 2, 3, 4, 5, 6,\n",
       "       0, 1, 2, 3, 4, 5, 6, 0, 1, 2, 3, 4, 5, 6, 0, 1, 2, 3, 4, 5, 6, 0, 1,\n",
       "       2, 3, 4, 5, 6, 0, 1, 2, 3, 4, 5, 6, 0, 1, 2, 3, 4, 5, 6, 0, 1, 2, 3,\n",
       "       4, 5, 6, 0, 1, 2, 3, 4, 5, 6, 0, 1, 2, 3, 4, 5, 6, 0, 1, 2, 3, 4, 5,\n",
       "       6, 0, 1, 2, 3, 4, 5, 6, 0, 1, 2, 3, 4, 5, 6, 0, 1, 2, 3, 4, 5, 6, 0,\n",
       "       1, 2, 3, 4, 5, 6, 0, 1, 2, 3, 4, 5, 6, 0, 1, 2, 3, 4, 5, 6, 0, 1, 2,\n",
       "       3, 4, 5, 6, 0, 1, 2, 3, 4, 5, 6, 0, 1, 2, 3, 4, 5, 6, 0, 1, 2, 3, 4,\n",
       "       5, 6, 0, 1, 2, 3, 4, 5, 6, 0, 1, 2, 3, 4, 5, 6, 0, 1, 2, 3, 4, 5, 6,\n",
       "       0, 1, 2, 3, 4, 5, 6, 0, 1, 2, 3, 4, 5, 6, 0, 1, 2, 3, 4, 5, 6, 0, 1,\n",
       "       2, 3, 4, 5, 6, 0, 1, 2, 3, 4, 5, 6, 0, 1, 2, 3, 4, 5, 6, 0, 1, 2, 3,\n",
       "       4, 5, 6, 0, 1, 2, 3, 4, 5, 6, 0], dtype=int32)"
      ]
     },
     "execution_count": 28,
     "metadata": {},
     "output_type": "execute_result"
    }
   ],
   "source": [
    "bike_df.index.weekday"
   ]
  },
  {
   "cell_type": "code",
   "execution_count": 29,
   "metadata": {
    "collapsed": false
   },
   "outputs": [],
   "source": [
    "bike_df['day_of_week']=bike_df.index.weekday"
   ]
  },
  {
   "cell_type": "code",
   "execution_count": 30,
   "metadata": {
    "collapsed": false
   },
   "outputs": [
    {
     "data": {
      "text/html": [
       "<div>\n",
       "<table border=\"1\" class=\"dataframe\">\n",
       "  <thead>\n",
       "    <tr style=\"text-align: right;\">\n",
       "      <th></th>\n",
       "      <th>Berri 1</th>\n",
       "      <th>Brébeuf (données non disponibles)</th>\n",
       "      <th>Côte-Sainte-Catherine</th>\n",
       "      <th>Maisonneuve 1</th>\n",
       "      <th>Maisonneuve 2</th>\n",
       "      <th>du Parc</th>\n",
       "      <th>Pierre-Dupuy</th>\n",
       "      <th>Rachel1</th>\n",
       "      <th>St-Urbain (données non disponibles)</th>\n",
       "      <th>day_of_week</th>\n",
       "    </tr>\n",
       "    <tr>\n",
       "      <th>Date</th>\n",
       "      <th></th>\n",
       "      <th></th>\n",
       "      <th></th>\n",
       "      <th></th>\n",
       "      <th></th>\n",
       "      <th></th>\n",
       "      <th></th>\n",
       "      <th></th>\n",
       "      <th></th>\n",
       "      <th></th>\n",
       "    </tr>\n",
       "  </thead>\n",
       "  <tbody>\n",
       "    <tr>\n",
       "      <th>2012-01-01</th>\n",
       "      <td>35</td>\n",
       "      <td>NaN</td>\n",
       "      <td>0</td>\n",
       "      <td>38</td>\n",
       "      <td>51</td>\n",
       "      <td>26</td>\n",
       "      <td>10</td>\n",
       "      <td>16</td>\n",
       "      <td>NaN</td>\n",
       "      <td>6</td>\n",
       "    </tr>\n",
       "    <tr>\n",
       "      <th>2012-01-02</th>\n",
       "      <td>83</td>\n",
       "      <td>NaN</td>\n",
       "      <td>1</td>\n",
       "      <td>68</td>\n",
       "      <td>153</td>\n",
       "      <td>53</td>\n",
       "      <td>6</td>\n",
       "      <td>43</td>\n",
       "      <td>NaN</td>\n",
       "      <td>0</td>\n",
       "    </tr>\n",
       "    <tr>\n",
       "      <th>2012-01-03</th>\n",
       "      <td>135</td>\n",
       "      <td>NaN</td>\n",
       "      <td>2</td>\n",
       "      <td>104</td>\n",
       "      <td>248</td>\n",
       "      <td>89</td>\n",
       "      <td>3</td>\n",
       "      <td>58</td>\n",
       "      <td>NaN</td>\n",
       "      <td>1</td>\n",
       "    </tr>\n",
       "    <tr>\n",
       "      <th>2012-01-04</th>\n",
       "      <td>144</td>\n",
       "      <td>NaN</td>\n",
       "      <td>1</td>\n",
       "      <td>116</td>\n",
       "      <td>318</td>\n",
       "      <td>111</td>\n",
       "      <td>8</td>\n",
       "      <td>61</td>\n",
       "      <td>NaN</td>\n",
       "      <td>2</td>\n",
       "    </tr>\n",
       "    <tr>\n",
       "      <th>2012-01-05</th>\n",
       "      <td>197</td>\n",
       "      <td>NaN</td>\n",
       "      <td>2</td>\n",
       "      <td>124</td>\n",
       "      <td>330</td>\n",
       "      <td>97</td>\n",
       "      <td>13</td>\n",
       "      <td>95</td>\n",
       "      <td>NaN</td>\n",
       "      <td>3</td>\n",
       "    </tr>\n",
       "  </tbody>\n",
       "</table>\n",
       "</div>"
      ],
      "text/plain": [
       "            Berri 1  Brébeuf (données non disponibles)  Côte-Sainte-Catherine  \\\n",
       "Date                                                                            \n",
       "2012-01-01       35                                NaN                      0   \n",
       "2012-01-02       83                                NaN                      1   \n",
       "2012-01-03      135                                NaN                      2   \n",
       "2012-01-04      144                                NaN                      1   \n",
       "2012-01-05      197                                NaN                      2   \n",
       "\n",
       "            Maisonneuve 1  Maisonneuve 2  du Parc  Pierre-Dupuy  Rachel1  \\\n",
       "Date                                                                       \n",
       "2012-01-01             38             51       26            10       16   \n",
       "2012-01-02             68            153       53             6       43   \n",
       "2012-01-03            104            248       89             3       58   \n",
       "2012-01-04            116            318      111             8       61   \n",
       "2012-01-05            124            330       97            13       95   \n",
       "\n",
       "            St-Urbain (données non disponibles)  day_of_week  \n",
       "Date                                                          \n",
       "2012-01-01                                  NaN            6  \n",
       "2012-01-02                                  NaN            0  \n",
       "2012-01-03                                  NaN            1  \n",
       "2012-01-04                                  NaN            2  \n",
       "2012-01-05                                  NaN            3  "
      ]
     },
     "execution_count": 30,
     "metadata": {},
     "output_type": "execute_result"
    }
   ],
   "source": [
    "bike_df.head(5)"
   ]
  },
  {
   "cell_type": "code",
   "execution_count": 31,
   "metadata": {
    "collapsed": false
   },
   "outputs": [
    {
     "data": {
      "text/plain": [
       "Index(['Berri 1', 'Brébeuf (données non disponibles)', 'Côte-Sainte-Catherine',\n",
       "       'Maisonneuve 1', 'Maisonneuve 2', 'du Parc', 'Pierre-Dupuy', 'Rachel1',\n",
       "       'St-Urbain (données non disponibles)', 'day_of_week'],\n",
       "      dtype='object')"
      ]
     },
     "execution_count": 31,
     "metadata": {},
     "output_type": "execute_result"
    }
   ],
   "source": [
    "bike_df.columns"
   ]
  },
  {
   "cell_type": "code",
   "execution_count": 32,
   "metadata": {
    "collapsed": false
   },
   "outputs": [
    {
     "data": {
      "text/plain": [
       "day_of_week\n",
       "0    134298\n",
       "1    135305\n",
       "2    152972\n",
       "3    160131\n",
       "4    141771\n",
       "5    101578\n",
       "6     99310\n",
       "Name: Berri 1, dtype: int64"
      ]
     },
     "execution_count": 32,
     "metadata": {},
     "output_type": "execute_result"
    }
   ],
   "source": [
    "weekday_counts_berri=bike_df['Berri 1'].groupby(bike_df['day_of_week']).sum()\n",
    "weekday_counts_berri"
   ]
  },
  {
   "cell_type": "code",
   "execution_count": 33,
   "metadata": {
    "collapsed": false
   },
   "outputs": [
    {
     "data": {
      "text/plain": [
       "<matplotlib.axes._subplots.AxesSubplot at 0x1133425c0>"
      ]
     },
     "execution_count": 33,
     "metadata": {},
     "output_type": "execute_result"
    },
    {
     "data": {
      "image/png": "[encoded data removed]",
      "text/plain": [
       "<matplotlib.figure.Figure at 0x1133bcc18>"
      ]
     },
     "metadata": {},
     "output_type": "display_data"
    }
   ],
   "source": [
    "weekday_counts_berri.index = ['Sunday','Monday', 'Tuesday', 'Wednesday', 'Thursday', 'Friday', 'Saturday']\n",
    "weekday_counts_berri.plot(kind='bar')"
   ]
  },
  {
   "cell_type": "markdown",
   "metadata": {
    "collapsed": true
   },
   "source": [
    "## 4. Let's do a bit Merge and Concate"
   ]
  },
  {
   "cell_type": "code",
   "execution_count": 34,
   "metadata": {
    "collapsed": false
   },
   "outputs": [
    {
     "data": {
      "text/html": [
       "<div>\n",
       "<table border=\"1\" class=\"dataframe\">\n",
       "  <thead>\n",
       "    <tr style=\"text-align: right;\">\n",
       "      <th></th>\n",
       "      <th>city</th>\n",
       "      <th>temperture</th>\n",
       "    </tr>\n",
       "  </thead>\n",
       "  <tbody>\n",
       "    <tr>\n",
       "      <th>0</th>\n",
       "      <td>Beijing</td>\n",
       "      <td>27</td>\n",
       "    </tr>\n",
       "    <tr>\n",
       "      <th>1</th>\n",
       "      <td>Shanghai</td>\n",
       "      <td>30</td>\n",
       "    </tr>\n",
       "    <tr>\n",
       "      <th>2</th>\n",
       "      <td>Guangzhou</td>\n",
       "      <td>33</td>\n",
       "    </tr>\n",
       "  </tbody>\n",
       "</table>\n",
       "</div>"
      ],
      "text/plain": [
       "        city  temperture\n",
       "0    Beijing          27\n",
       "1   Shanghai          30\n",
       "2  Guangzhou          33"
      ]
     },
     "execution_count": 34,
     "metadata": {},
     "output_type": "execute_result"
    }
   ],
   "source": [
    "df1=pd.DataFrame({\"city\":[\"Beijing\",\"Shanghai\",\"Guangzhou\"],\"temperture\":[27,30,33]})\n",
    "df1"
   ]
  },
  {
   "cell_type": "code",
   "execution_count": 36,
   "metadata": {
    "collapsed": false
   },
   "outputs": [
    {
     "data": {
      "text/html": [
       "<div>\n",
       "<table border=\"1\" class=\"dataframe\">\n",
       "  <thead>\n",
       "    <tr style=\"text-align: right;\">\n",
       "      <th></th>\n",
       "      <th>city</th>\n",
       "      <th>humidity</th>\n",
       "    </tr>\n",
       "  </thead>\n",
       "  <tbody>\n",
       "    <tr>\n",
       "      <th>0</th>\n",
       "      <td>Beijing</td>\n",
       "      <td>65</td>\n",
       "    </tr>\n",
       "    <tr>\n",
       "      <th>1</th>\n",
       "      <td>Shanghai</td>\n",
       "      <td>68</td>\n",
       "    </tr>\n",
       "    <tr>\n",
       "      <th>2</th>\n",
       "      <td>Guangzhou</td>\n",
       "      <td>75</td>\n",
       "    </tr>\n",
       "  </tbody>\n",
       "</table>\n",
       "</div>"
      ],
      "text/plain": [
       "        city  humidity\n",
       "0    Beijing        65\n",
       "1   Shanghai        68\n",
       "2  Guangzhou        75"
      ]
     },
     "execution_count": 36,
     "metadata": {},
     "output_type": "execute_result"
    }
   ],
   "source": [
    "df2=pd.DataFrame({\"city\":[\"Beijing\",\"Shanghai\",\"Guangzhou\"],\"humidity\":[65,68,75]})\n",
    "df2"
   ]
  },
  {
   "cell_type": "code",
   "execution_count": 37,
   "metadata": {
    "collapsed": false
   },
   "outputs": [
    {
     "data": {
      "text/html": [
       "<div>\n",
       "<table border=\"1\" class=\"dataframe\">\n",
       "  <thead>\n",
       "    <tr style=\"text-align: right;\">\n",
       "      <th></th>\n",
       "      <th>city</th>\n",
       "      <th>temperture</th>\n",
       "      <th>humidity</th>\n",
       "    </tr>\n",
       "  </thead>\n",
       "  <tbody>\n",
       "    <tr>\n",
       "      <th>0</th>\n",
       "      <td>Beijing</td>\n",
       "      <td>27</td>\n",
       "      <td>65</td>\n",
       "    </tr>\n",
       "    <tr>\n",
       "      <th>1</th>\n",
       "      <td>Shanghai</td>\n",
       "      <td>30</td>\n",
       "      <td>68</td>\n",
       "    </tr>\n",
       "    <tr>\n",
       "      <th>2</th>\n",
       "      <td>Guangzhou</td>\n",
       "      <td>33</td>\n",
       "      <td>75</td>\n",
       "    </tr>\n",
       "  </tbody>\n",
       "</table>\n",
       "</div>"
      ],
      "text/plain": [
       "        city  temperture  humidity\n",
       "0    Beijing          27        65\n",
       "1   Shanghai          30        68\n",
       "2  Guangzhou          33        75"
      ]
     },
     "execution_count": 37,
     "metadata": {},
     "output_type": "execute_result"
    }
   ],
   "source": [
    "pd.merge(df1,df2,on=\"city\")"
   ]
  },
  {
   "cell_type": "markdown",
   "metadata": {},
   "source": [
    "### 4.1 What if cities are not the same?"
   ]
  },
  {
   "cell_type": "code",
   "execution_count": 38,
   "metadata": {
    "collapsed": false
   },
   "outputs": [
    {
     "data": {
      "text/html": [
       "<div>\n",
       "<table border=\"1\" class=\"dataframe\">\n",
       "  <thead>\n",
       "    <tr style=\"text-align: right;\">\n",
       "      <th></th>\n",
       "      <th>city</th>\n",
       "      <th>temperture</th>\n",
       "    </tr>\n",
       "  </thead>\n",
       "  <tbody>\n",
       "    <tr>\n",
       "      <th>0</th>\n",
       "      <td>Beijing</td>\n",
       "      <td>27</td>\n",
       "    </tr>\n",
       "    <tr>\n",
       "      <th>1</th>\n",
       "      <td>Shanghai</td>\n",
       "      <td>30</td>\n",
       "    </tr>\n",
       "    <tr>\n",
       "      <th>2</th>\n",
       "      <td>Guangzhou</td>\n",
       "      <td>33</td>\n",
       "    </tr>\n",
       "    <tr>\n",
       "      <th>3</th>\n",
       "      <td>Shenzhen</td>\n",
       "      <td>32</td>\n",
       "    </tr>\n",
       "  </tbody>\n",
       "</table>\n",
       "</div>"
      ],
      "text/plain": [
       "        city  temperture\n",
       "0    Beijing          27\n",
       "1   Shanghai          30\n",
       "2  Guangzhou          33\n",
       "3   Shenzhen          32"
      ]
     },
     "execution_count": 38,
     "metadata": {},
     "output_type": "execute_result"
    }
   ],
   "source": [
    "df1=pd.DataFrame({\"city\":[\"Beijing\",\"Shanghai\",\"Guangzhou\",\"Shenzhen\"],\"temperture\":[27,30,33,32]})\n",
    "df1"
   ]
  },
  {
   "cell_type": "code",
   "execution_count": 39,
   "metadata": {
    "collapsed": false
   },
   "outputs": [
    {
     "data": {
      "text/html": [
       "<div>\n",
       "<table border=\"1\" class=\"dataframe\">\n",
       "  <thead>\n",
       "    <tr style=\"text-align: right;\">\n",
       "      <th></th>\n",
       "      <th>city</th>\n",
       "      <th>humidity</th>\n",
       "    </tr>\n",
       "  </thead>\n",
       "  <tbody>\n",
       "    <tr>\n",
       "      <th>0</th>\n",
       "      <td>Beijing</td>\n",
       "      <td>65</td>\n",
       "    </tr>\n",
       "    <tr>\n",
       "      <th>1</th>\n",
       "      <td>Shanghai</td>\n",
       "      <td>68</td>\n",
       "    </tr>\n",
       "    <tr>\n",
       "      <th>2</th>\n",
       "      <td>Hangzhou</td>\n",
       "      <td>70</td>\n",
       "    </tr>\n",
       "  </tbody>\n",
       "</table>\n",
       "</div>"
      ],
      "text/plain": [
       "       city  humidity\n",
       "0   Beijing        65\n",
       "1  Shanghai        68\n",
       "2  Hangzhou        70"
      ]
     },
     "execution_count": 39,
     "metadata": {},
     "output_type": "execute_result"
    }
   ],
   "source": [
    "df2=pd.DataFrame({\"city\":[\"Beijing\",\"Shanghai\",\"Hangzhou\"],\"humidity\":[65,68,70]})\n",
    "df2"
   ]
  },
  {
   "cell_type": "markdown",
   "metadata": {},
   "source": [
    "### Humm... Interception"
   ]
  },
  {
   "cell_type": "code",
   "execution_count": 113,
   "metadata": {
    "collapsed": false
   },
   "outputs": [
    {
     "data": {
      "text/html": [
       "<div>\n",
       "<table border=\"1\" class=\"dataframe\">\n",
       "  <thead>\n",
       "    <tr style=\"text-align: right;\">\n",
       "      <th></th>\n",
       "      <th>city</th>\n",
       "      <th>temperture</th>\n",
       "      <th>humidity</th>\n",
       "    </tr>\n",
       "  </thead>\n",
       "  <tbody>\n",
       "    <tr>\n",
       "      <th>0</th>\n",
       "      <td>Beijing</td>\n",
       "      <td>27</td>\n",
       "      <td>65</td>\n",
       "    </tr>\n",
       "    <tr>\n",
       "      <th>1</th>\n",
       "      <td>Shanghai</td>\n",
       "      <td>30</td>\n",
       "      <td>68</td>\n",
       "    </tr>\n",
       "  </tbody>\n",
       "</table>\n",
       "</div>"
      ],
      "text/plain": [
       "       city  temperture  humidity\n",
       "0   Beijing          27        65\n",
       "1  Shanghai          30        68"
      ]
     },
     "execution_count": 113,
     "metadata": {},
     "output_type": "execute_result"
    }
   ],
   "source": [
    "pd.merge(df1,df2,on=\"city\",how =\"inner\")"
   ]
  },
  {
   "cell_type": "code",
   "execution_count": 114,
   "metadata": {
    "collapsed": false
   },
   "outputs": [
    {
     "data": {
      "text/html": [
       "<div>\n",
       "<table border=\"1\" class=\"dataframe\">\n",
       "  <thead>\n",
       "    <tr style=\"text-align: right;\">\n",
       "      <th></th>\n",
       "      <th>city</th>\n",
       "      <th>temperture</th>\n",
       "      <th>humidity</th>\n",
       "    </tr>\n",
       "  </thead>\n",
       "  <tbody>\n",
       "    <tr>\n",
       "      <th>0</th>\n",
       "      <td>Beijing</td>\n",
       "      <td>27.0</td>\n",
       "      <td>65.0</td>\n",
       "    </tr>\n",
       "    <tr>\n",
       "      <th>1</th>\n",
       "      <td>Shanghai</td>\n",
       "      <td>30.0</td>\n",
       "      <td>68.0</td>\n",
       "    </tr>\n",
       "    <tr>\n",
       "      <th>2</th>\n",
       "      <td>Guangzhou</td>\n",
       "      <td>33.0</td>\n",
       "      <td>NaN</td>\n",
       "    </tr>\n",
       "    <tr>\n",
       "      <th>3</th>\n",
       "      <td>Shenzhen</td>\n",
       "      <td>32.0</td>\n",
       "      <td>NaN</td>\n",
       "    </tr>\n",
       "    <tr>\n",
       "      <th>4</th>\n",
       "      <td>Hangzhou</td>\n",
       "      <td>NaN</td>\n",
       "      <td>70.0</td>\n",
       "    </tr>\n",
       "  </tbody>\n",
       "</table>\n",
       "</div>"
      ],
      "text/plain": [
       "        city  temperture  humidity\n",
       "0    Beijing        27.0      65.0\n",
       "1   Shanghai        30.0      68.0\n",
       "2  Guangzhou        33.0       NaN\n",
       "3   Shenzhen        32.0       NaN\n",
       "4   Hangzhou         NaN      70.0"
      ]
     },
     "execution_count": 114,
     "metadata": {},
     "output_type": "execute_result"
    }
   ],
   "source": [
    "pd.merge(df1,df2,on=\"city\",how=\"outer\")"
   ]
  },
  {
   "cell_type": "code",
   "execution_count": 115,
   "metadata": {
    "collapsed": false
   },
   "outputs": [
    {
     "data": {
      "text/html": [
       "<div>\n",
       "<table border=\"1\" class=\"dataframe\">\n",
       "  <thead>\n",
       "    <tr style=\"text-align: right;\">\n",
       "      <th></th>\n",
       "      <th>city</th>\n",
       "      <th>temperture</th>\n",
       "      <th>humidity</th>\n",
       "    </tr>\n",
       "  </thead>\n",
       "  <tbody>\n",
       "    <tr>\n",
       "      <th>0</th>\n",
       "      <td>Beijing</td>\n",
       "      <td>27</td>\n",
       "      <td>65.0</td>\n",
       "    </tr>\n",
       "    <tr>\n",
       "      <th>1</th>\n",
       "      <td>Shanghai</td>\n",
       "      <td>30</td>\n",
       "      <td>68.0</td>\n",
       "    </tr>\n",
       "    <tr>\n",
       "      <th>2</th>\n",
       "      <td>Guangzhou</td>\n",
       "      <td>33</td>\n",
       "      <td>NaN</td>\n",
       "    </tr>\n",
       "    <tr>\n",
       "      <th>3</th>\n",
       "      <td>Shenzhen</td>\n",
       "      <td>32</td>\n",
       "      <td>NaN</td>\n",
       "    </tr>\n",
       "  </tbody>\n",
       "</table>\n",
       "</div>"
      ],
      "text/plain": [
       "        city  temperture  humidity\n",
       "0    Beijing          27      65.0\n",
       "1   Shanghai          30      68.0\n",
       "2  Guangzhou          33       NaN\n",
       "3   Shenzhen          32       NaN"
      ]
     },
     "execution_count": 115,
     "metadata": {},
     "output_type": "execute_result"
    }
   ],
   "source": [
    "pd.merge(df1,df2,on=\"city\",how=\"left\")"
   ]
  },
  {
   "cell_type": "code",
   "execution_count": 116,
   "metadata": {
    "collapsed": false
   },
   "outputs": [
    {
     "data": {
      "text/html": [
       "<div>\n",
       "<table border=\"1\" class=\"dataframe\">\n",
       "  <thead>\n",
       "    <tr style=\"text-align: right;\">\n",
       "      <th></th>\n",
       "      <th>city</th>\n",
       "      <th>temperture</th>\n",
       "      <th>humidity</th>\n",
       "    </tr>\n",
       "  </thead>\n",
       "  <tbody>\n",
       "    <tr>\n",
       "      <th>0</th>\n",
       "      <td>Beijing</td>\n",
       "      <td>27.0</td>\n",
       "      <td>65</td>\n",
       "    </tr>\n",
       "    <tr>\n",
       "      <th>1</th>\n",
       "      <td>Shanghai</td>\n",
       "      <td>30.0</td>\n",
       "      <td>68</td>\n",
       "    </tr>\n",
       "    <tr>\n",
       "      <th>2</th>\n",
       "      <td>Hangzhou</td>\n",
       "      <td>NaN</td>\n",
       "      <td>70</td>\n",
       "    </tr>\n",
       "  </tbody>\n",
       "</table>\n",
       "</div>"
      ],
      "text/plain": [
       "       city  temperture  humidity\n",
       "0   Beijing        27.0        65\n",
       "1  Shanghai        30.0        68\n",
       "2  Hangzhou         NaN        70"
      ]
     },
     "execution_count": 116,
     "metadata": {},
     "output_type": "execute_result"
    }
   ],
   "source": [
    "pd.merge(df1,df2,on=\"city\",how=\"right\")"
   ]
  },
  {
   "cell_type": "code",
   "execution_count": 118,
   "metadata": {
    "collapsed": false
   },
   "outputs": [
    {
     "data": {
      "text/html": [
       "<div>\n",
       "<table border=\"1\" class=\"dataframe\">\n",
       "  <thead>\n",
       "    <tr style=\"text-align: right;\">\n",
       "      <th></th>\n",
       "      <th>city</th>\n",
       "      <th>temperture</th>\n",
       "      <th>humidity</th>\n",
       "      <th>_merge</th>\n",
       "    </tr>\n",
       "  </thead>\n",
       "  <tbody>\n",
       "    <tr>\n",
       "      <th>0</th>\n",
       "      <td>Beijing</td>\n",
       "      <td>27.0</td>\n",
       "      <td>65.0</td>\n",
       "      <td>both</td>\n",
       "    </tr>\n",
       "    <tr>\n",
       "      <th>1</th>\n",
       "      <td>Shanghai</td>\n",
       "      <td>30.0</td>\n",
       "      <td>68.0</td>\n",
       "      <td>both</td>\n",
       "    </tr>\n",
       "    <tr>\n",
       "      <th>2</th>\n",
       "      <td>Guangzhou</td>\n",
       "      <td>33.0</td>\n",
       "      <td>NaN</td>\n",
       "      <td>left_only</td>\n",
       "    </tr>\n",
       "    <tr>\n",
       "      <th>3</th>\n",
       "      <td>Shenzhen</td>\n",
       "      <td>32.0</td>\n",
       "      <td>NaN</td>\n",
       "      <td>left_only</td>\n",
       "    </tr>\n",
       "    <tr>\n",
       "      <th>4</th>\n",
       "      <td>Hangzhou</td>\n",
       "      <td>NaN</td>\n",
       "      <td>70.0</td>\n",
       "      <td>right_only</td>\n",
       "    </tr>\n",
       "  </tbody>\n",
       "</table>\n",
       "</div>"
      ],
      "text/plain": [
       "        city  temperture  humidity      _merge\n",
       "0    Beijing        27.0      65.0        both\n",
       "1   Shanghai        30.0      68.0        both\n",
       "2  Guangzhou        33.0       NaN   left_only\n",
       "3   Shenzhen        32.0       NaN   left_only\n",
       "4   Hangzhou         NaN      70.0  right_only"
      ]
     },
     "execution_count": 118,
     "metadata": {},
     "output_type": "execute_result"
    }
   ],
   "source": [
    "pd.merge(df1,df2,on=\"city\",how=\"outer\",indicator=True)"
   ]
  },
  {
   "cell_type": "markdown",
   "metadata": {},
   "source": [
    "### 4.3 What if some columns are the same? "
   ]
  },
  {
   "cell_type": "code",
   "execution_count": 40,
   "metadata": {
    "collapsed": false
   },
   "outputs": [
    {
     "data": {
      "text/html": [
       "<div>\n",
       "<table border=\"1\" class=\"dataframe\">\n",
       "  <thead>\n",
       "    <tr style=\"text-align: right;\">\n",
       "      <th></th>\n",
       "      <th>city</th>\n",
       "      <th>humidity</th>\n",
       "      <th>temperture</th>\n",
       "    </tr>\n",
       "  </thead>\n",
       "  <tbody>\n",
       "    <tr>\n",
       "      <th>0</th>\n",
       "      <td>Beijing</td>\n",
       "      <td>65</td>\n",
       "      <td>27</td>\n",
       "    </tr>\n",
       "    <tr>\n",
       "      <th>1</th>\n",
       "      <td>Shanghai</td>\n",
       "      <td>68</td>\n",
       "      <td>30</td>\n",
       "    </tr>\n",
       "    <tr>\n",
       "      <th>2</th>\n",
       "      <td>Shenzhen</td>\n",
       "      <td>65</td>\n",
       "      <td>32</td>\n",
       "    </tr>\n",
       "  </tbody>\n",
       "</table>\n",
       "</div>"
      ],
      "text/plain": [
       "       city  humidity  temperture\n",
       "0   Beijing        65          27\n",
       "1  Shanghai        68          30\n",
       "2  Shenzhen        65          32"
      ]
     },
     "execution_count": 40,
     "metadata": {},
     "output_type": "execute_result"
    }
   ],
   "source": [
    "df3=pd.DataFrame({\"city\":[\"Beijing\",\"Shanghai\",\"Shenzhen\"],\"temperture\":[27,30,32],\"humidity\":[65,68,65]})\n",
    "df3"
   ]
  },
  {
   "cell_type": "code",
   "execution_count": 41,
   "metadata": {
    "collapsed": false
   },
   "outputs": [
    {
     "data": {
      "text/html": [
       "<div>\n",
       "<table border=\"1\" class=\"dataframe\">\n",
       "  <thead>\n",
       "    <tr style=\"text-align: right;\">\n",
       "      <th></th>\n",
       "      <th>city</th>\n",
       "      <th>humidity</th>\n",
       "      <th>temperture</th>\n",
       "    </tr>\n",
       "  </thead>\n",
       "  <tbody>\n",
       "    <tr>\n",
       "      <th>0</th>\n",
       "      <td>Beijing</td>\n",
       "      <td>65</td>\n",
       "      <td>27</td>\n",
       "    </tr>\n",
       "    <tr>\n",
       "      <th>1</th>\n",
       "      <td>Shanghai</td>\n",
       "      <td>68</td>\n",
       "      <td>30</td>\n",
       "    </tr>\n",
       "    <tr>\n",
       "      <th>2</th>\n",
       "      <td>Hangzhou</td>\n",
       "      <td>65</td>\n",
       "      <td>32</td>\n",
       "    </tr>\n",
       "    <tr>\n",
       "      <th>3</th>\n",
       "      <td>Wuhan</td>\n",
       "      <td>70</td>\n",
       "      <td>32</td>\n",
       "    </tr>\n",
       "  </tbody>\n",
       "</table>\n",
       "</div>"
      ],
      "text/plain": [
       "       city  humidity  temperture\n",
       "0   Beijing        65          27\n",
       "1  Shanghai        68          30\n",
       "2  Hangzhou        65          32\n",
       "3     Wuhan        70          32"
      ]
     },
     "execution_count": 41,
     "metadata": {},
     "output_type": "execute_result"
    }
   ],
   "source": [
    "df4=pd.DataFrame({\"city\":[\"Beijing\",\"Shanghai\",\"Hangzhou\",\"Wuhan\"],\"temperture\":[27,30,32,32],\"humidity\":[65,68,65,70]})\n",
    "df4"
   ]
  },
  {
   "cell_type": "code",
   "execution_count": 42,
   "metadata": {
    "collapsed": false
   },
   "outputs": [
    {
     "data": {
      "text/html": [
       "<div>\n",
       "<table border=\"1\" class=\"dataframe\">\n",
       "  <thead>\n",
       "    <tr style=\"text-align: right;\">\n",
       "      <th></th>\n",
       "      <th>city</th>\n",
       "      <th>humidity_x</th>\n",
       "      <th>temperture_x</th>\n",
       "      <th>humidity_y</th>\n",
       "      <th>temperture_y</th>\n",
       "    </tr>\n",
       "  </thead>\n",
       "  <tbody>\n",
       "    <tr>\n",
       "      <th>0</th>\n",
       "      <td>Beijing</td>\n",
       "      <td>65.0</td>\n",
       "      <td>27.0</td>\n",
       "      <td>65.0</td>\n",
       "      <td>27.0</td>\n",
       "    </tr>\n",
       "    <tr>\n",
       "      <th>1</th>\n",
       "      <td>Shanghai</td>\n",
       "      <td>68.0</td>\n",
       "      <td>30.0</td>\n",
       "      <td>68.0</td>\n",
       "      <td>30.0</td>\n",
       "    </tr>\n",
       "    <tr>\n",
       "      <th>2</th>\n",
       "      <td>Shenzhen</td>\n",
       "      <td>65.0</td>\n",
       "      <td>32.0</td>\n",
       "      <td>NaN</td>\n",
       "      <td>NaN</td>\n",
       "    </tr>\n",
       "    <tr>\n",
       "      <th>3</th>\n",
       "      <td>Hangzhou</td>\n",
       "      <td>NaN</td>\n",
       "      <td>NaN</td>\n",
       "      <td>65.0</td>\n",
       "      <td>32.0</td>\n",
       "    </tr>\n",
       "    <tr>\n",
       "      <th>4</th>\n",
       "      <td>Wuhan</td>\n",
       "      <td>NaN</td>\n",
       "      <td>NaN</td>\n",
       "      <td>70.0</td>\n",
       "      <td>32.0</td>\n",
       "    </tr>\n",
       "  </tbody>\n",
       "</table>\n",
       "</div>"
      ],
      "text/plain": [
       "       city  humidity_x  temperture_x  humidity_y  temperture_y\n",
       "0   Beijing        65.0          27.0        65.0          27.0\n",
       "1  Shanghai        68.0          30.0        68.0          30.0\n",
       "2  Shenzhen        65.0          32.0         NaN           NaN\n",
       "3  Hangzhou         NaN           NaN        65.0          32.0\n",
       "4     Wuhan         NaN           NaN        70.0          32.0"
      ]
     },
     "execution_count": 42,
     "metadata": {},
     "output_type": "execute_result"
    }
   ],
   "source": [
    "pd.merge(df3,df4,on=\"city\",how=\"outer\")"
   ]
  },
  {
   "cell_type": "code",
   "execution_count": 126,
   "metadata": {
    "collapsed": false
   },
   "outputs": [
    {
     "data": {
      "text/html": [
       "<div>\n",
       "<table border=\"1\" class=\"dataframe\">\n",
       "  <thead>\n",
       "    <tr style=\"text-align: right;\">\n",
       "      <th></th>\n",
       "      <th>city</th>\n",
       "      <th>humidity_left</th>\n",
       "      <th>temperture_left</th>\n",
       "      <th>humidity_right</th>\n",
       "      <th>temperture_right</th>\n",
       "    </tr>\n",
       "  </thead>\n",
       "  <tbody>\n",
       "    <tr>\n",
       "      <th>0</th>\n",
       "      <td>Beijing</td>\n",
       "      <td>65.0</td>\n",
       "      <td>27.0</td>\n",
       "      <td>65.0</td>\n",
       "      <td>27.0</td>\n",
       "    </tr>\n",
       "    <tr>\n",
       "      <th>1</th>\n",
       "      <td>Shanghai</td>\n",
       "      <td>68.0</td>\n",
       "      <td>30.0</td>\n",
       "      <td>68.0</td>\n",
       "      <td>30.0</td>\n",
       "    </tr>\n",
       "    <tr>\n",
       "      <th>2</th>\n",
       "      <td>Shenzhen</td>\n",
       "      <td>65.0</td>\n",
       "      <td>32.0</td>\n",
       "      <td>NaN</td>\n",
       "      <td>NaN</td>\n",
       "    </tr>\n",
       "    <tr>\n",
       "      <th>3</th>\n",
       "      <td>Hangzhou</td>\n",
       "      <td>NaN</td>\n",
       "      <td>NaN</td>\n",
       "      <td>65.0</td>\n",
       "      <td>32.0</td>\n",
       "    </tr>\n",
       "    <tr>\n",
       "      <th>4</th>\n",
       "      <td>Wuhan</td>\n",
       "      <td>NaN</td>\n",
       "      <td>NaN</td>\n",
       "      <td>70.0</td>\n",
       "      <td>32.0</td>\n",
       "    </tr>\n",
       "  </tbody>\n",
       "</table>\n",
       "</div>"
      ],
      "text/plain": [
       "       city  humidity_left  temperture_left  humidity_right  temperture_right\n",
       "0   Beijing           65.0             27.0            65.0              27.0\n",
       "1  Shanghai           68.0             30.0            68.0              30.0\n",
       "2  Shenzhen           65.0             32.0             NaN               NaN\n",
       "3  Hangzhou            NaN              NaN            65.0              32.0\n",
       "4     Wuhan            NaN              NaN            70.0              32.0"
      ]
     },
     "execution_count": 126,
     "metadata": {},
     "output_type": "execute_result"
    }
   ],
   "source": [
    "pd.merge(df3,df4,on=\"city\",how=\"outer\",suffixes=('_left','_right'))"
   ]
  },
  {
   "cell_type": "code",
   "execution_count": 44,
   "metadata": {
    "collapsed": true
   },
   "outputs": [],
   "source": [
    "pd.merge?"
   ]
  },
  {
   "cell_type": "code",
   "execution_count": null,
   "metadata": {
    "collapsed": true
   },
   "outputs": [],
   "source": []
  },
  {
   "cell_type": "code",
   "execution_count": null,
   "metadata": {
    "collapsed": true
   },
   "outputs": [],
   "source": []
  },
  {
   "cell_type": "code",
   "execution_count": null,
   "metadata": {
    "collapsed": true
   },
   "outputs": [],
   "source": []
  },
  {
   "cell_type": "markdown",
   "metadata": {},
   "source": [
    "## 4.4 Concate"
   ]
  },
  {
   "cell_type": "code",
   "execution_count": 45,
   "metadata": {
    "collapsed": false
   },
   "outputs": [
    {
     "data": {
      "text/html": [
       "<div>\n",
       "<table border=\"1\" class=\"dataframe\">\n",
       "  <thead>\n",
       "    <tr style=\"text-align: right;\">\n",
       "      <th></th>\n",
       "      <th>city</th>\n",
       "      <th>humidity</th>\n",
       "      <th>temperture</th>\n",
       "    </tr>\n",
       "  </thead>\n",
       "  <tbody>\n",
       "    <tr>\n",
       "      <th>0</th>\n",
       "      <td>NYC</td>\n",
       "      <td>66</td>\n",
       "      <td>28</td>\n",
       "    </tr>\n",
       "    <tr>\n",
       "      <th>1</th>\n",
       "      <td>San Jose</td>\n",
       "      <td>65</td>\n",
       "      <td>33</td>\n",
       "    </tr>\n",
       "    <tr>\n",
       "      <th>2</th>\n",
       "      <td>Chicago</td>\n",
       "      <td>60</td>\n",
       "      <td>26</td>\n",
       "    </tr>\n",
       "  </tbody>\n",
       "</table>\n",
       "</div>"
      ],
      "text/plain": [
       "       city  humidity  temperture\n",
       "0       NYC        66          28\n",
       "1  San Jose        65          33\n",
       "2   Chicago        60          26"
      ]
     },
     "execution_count": 45,
     "metadata": {},
     "output_type": "execute_result"
    }
   ],
   "source": [
    "df5=pd.DataFrame({\"city\":[\"NYC\",\"San Jose\",\"Chicago\"],\"temperture\":[28,33,26],\"humidity\":[66,65,60]})\n",
    "df5"
   ]
  },
  {
   "cell_type": "code",
   "execution_count": 46,
   "metadata": {
    "collapsed": false
   },
   "outputs": [
    {
     "data": {
      "text/html": [
       "<div>\n",
       "<table border=\"1\" class=\"dataframe\">\n",
       "  <thead>\n",
       "    <tr style=\"text-align: right;\">\n",
       "      <th></th>\n",
       "      <th>city</th>\n",
       "      <th>humidity</th>\n",
       "      <th>temperture</th>\n",
       "    </tr>\n",
       "  </thead>\n",
       "  <tbody>\n",
       "    <tr>\n",
       "      <th>0</th>\n",
       "      <td>Beijing</td>\n",
       "      <td>65</td>\n",
       "      <td>27</td>\n",
       "    </tr>\n",
       "    <tr>\n",
       "      <th>1</th>\n",
       "      <td>Shanghai</td>\n",
       "      <td>68</td>\n",
       "      <td>30</td>\n",
       "    </tr>\n",
       "    <tr>\n",
       "      <th>2</th>\n",
       "      <td>Shenzhen</td>\n",
       "      <td>65</td>\n",
       "      <td>32</td>\n",
       "    </tr>\n",
       "    <tr>\n",
       "      <th>0</th>\n",
       "      <td>NYC</td>\n",
       "      <td>66</td>\n",
       "      <td>28</td>\n",
       "    </tr>\n",
       "    <tr>\n",
       "      <th>1</th>\n",
       "      <td>San Jose</td>\n",
       "      <td>65</td>\n",
       "      <td>33</td>\n",
       "    </tr>\n",
       "    <tr>\n",
       "      <th>2</th>\n",
       "      <td>Chicago</td>\n",
       "      <td>60</td>\n",
       "      <td>26</td>\n",
       "    </tr>\n",
       "  </tbody>\n",
       "</table>\n",
       "</div>"
      ],
      "text/plain": [
       "       city  humidity  temperture\n",
       "0   Beijing        65          27\n",
       "1  Shanghai        68          30\n",
       "2  Shenzhen        65          32\n",
       "0       NYC        66          28\n",
       "1  San Jose        65          33\n",
       "2   Chicago        60          26"
      ]
     },
     "execution_count": 46,
     "metadata": {},
     "output_type": "execute_result"
    }
   ],
   "source": [
    "pd.concat([df3,df5])         # index from original dataframe"
   ]
  },
  {
   "cell_type": "code",
   "execution_count": 146,
   "metadata": {
    "collapsed": false
   },
   "outputs": [
    {
     "data": {
      "text/html": [
       "<div>\n",
       "<table border=\"1\" class=\"dataframe\">\n",
       "  <thead>\n",
       "    <tr style=\"text-align: right;\">\n",
       "      <th></th>\n",
       "      <th>city</th>\n",
       "      <th>humidity</th>\n",
       "      <th>temperture</th>\n",
       "    </tr>\n",
       "  </thead>\n",
       "  <tbody>\n",
       "    <tr>\n",
       "      <th>0</th>\n",
       "      <td>Beijing</td>\n",
       "      <td>65</td>\n",
       "      <td>27</td>\n",
       "    </tr>\n",
       "    <tr>\n",
       "      <th>1</th>\n",
       "      <td>Shanghai</td>\n",
       "      <td>68</td>\n",
       "      <td>30</td>\n",
       "    </tr>\n",
       "    <tr>\n",
       "      <th>2</th>\n",
       "      <td>Shenzhen</td>\n",
       "      <td>65</td>\n",
       "      <td>32</td>\n",
       "    </tr>\n",
       "    <tr>\n",
       "      <th>3</th>\n",
       "      <td>NYC</td>\n",
       "      <td>66</td>\n",
       "      <td>28</td>\n",
       "    </tr>\n",
       "    <tr>\n",
       "      <th>4</th>\n",
       "      <td>San Jose</td>\n",
       "      <td>65</td>\n",
       "      <td>33</td>\n",
       "    </tr>\n",
       "    <tr>\n",
       "      <th>5</th>\n",
       "      <td>Chicago</td>\n",
       "      <td>60</td>\n",
       "      <td>26</td>\n",
       "    </tr>\n",
       "  </tbody>\n",
       "</table>\n",
       "</div>"
      ],
      "text/plain": [
       "       city  humidity  temperture\n",
       "0   Beijing        65          27\n",
       "1  Shanghai        68          30\n",
       "2  Shenzhen        65          32\n",
       "3       NYC        66          28\n",
       "4  San Jose        65          33\n",
       "5   Chicago        60          26"
      ]
     },
     "execution_count": 146,
     "metadata": {},
     "output_type": "execute_result"
    }
   ],
   "source": [
    "pd.concat([df3,df5],ignore_index = True)"
   ]
  },
  {
   "cell_type": "code",
   "execution_count": 47,
   "metadata": {
    "collapsed": false
   },
   "outputs": [
    {
     "data": {
      "text/html": [
       "<div>\n",
       "<table border=\"1\" class=\"dataframe\">\n",
       "  <thead>\n",
       "    <tr style=\"text-align: right;\">\n",
       "      <th></th>\n",
       "      <th>city</th>\n",
       "      <th>wind_speed</th>\n",
       "    </tr>\n",
       "  </thead>\n",
       "  <tbody>\n",
       "    <tr>\n",
       "      <th>0</th>\n",
       "      <td>NYC</td>\n",
       "      <td>2</td>\n",
       "    </tr>\n",
       "    <tr>\n",
       "      <th>1</th>\n",
       "      <td>San Jose</td>\n",
       "      <td>5</td>\n",
       "    </tr>\n",
       "    <tr>\n",
       "      <th>2</th>\n",
       "      <td>Chicago</td>\n",
       "      <td>4</td>\n",
       "    </tr>\n",
       "  </tbody>\n",
       "</table>\n",
       "</div>"
      ],
      "text/plain": [
       "       city  wind_speed\n",
       "0       NYC           2\n",
       "1  San Jose           5\n",
       "2   Chicago           4"
      ]
     },
     "execution_count": 47,
     "metadata": {},
     "output_type": "execute_result"
    }
   ],
   "source": [
    "df6=pd.DataFrame({\"city\":[\"NYC\",\"San Jose\",\"Chicago\"],\"wind_speed\":[2,5,4]})\n",
    "df6"
   ]
  },
  {
   "cell_type": "code",
   "execution_count": 154,
   "metadata": {
    "collapsed": false
   },
   "outputs": [
    {
     "data": {
      "text/html": [
       "<div>\n",
       "<table border=\"1\" class=\"dataframe\">\n",
       "  <thead>\n",
       "    <tr style=\"text-align: right;\">\n",
       "      <th></th>\n",
       "      <th>city</th>\n",
       "      <th>humidity</th>\n",
       "      <th>temperture</th>\n",
       "      <th>city</th>\n",
       "      <th>wind_speed</th>\n",
       "    </tr>\n",
       "  </thead>\n",
       "  <tbody>\n",
       "    <tr>\n",
       "      <th>0</th>\n",
       "      <td>NYC</td>\n",
       "      <td>66</td>\n",
       "      <td>28</td>\n",
       "      <td>NYC</td>\n",
       "      <td>2</td>\n",
       "    </tr>\n",
       "    <tr>\n",
       "      <th>1</th>\n",
       "      <td>San Jose</td>\n",
       "      <td>65</td>\n",
       "      <td>33</td>\n",
       "      <td>San Jose</td>\n",
       "      <td>5</td>\n",
       "    </tr>\n",
       "    <tr>\n",
       "      <th>2</th>\n",
       "      <td>Chicago</td>\n",
       "      <td>60</td>\n",
       "      <td>26</td>\n",
       "      <td>Chicago</td>\n",
       "      <td>4</td>\n",
       "    </tr>\n",
       "  </tbody>\n",
       "</table>\n",
       "</div>"
      ],
      "text/plain": [
       "       city  humidity  temperture      city  wind_speed\n",
       "0       NYC        66          28       NYC           2\n",
       "1  San Jose        65          33  San Jose           5\n",
       "2   Chicago        60          26   Chicago           4"
      ]
     },
     "execution_count": 154,
     "metadata": {},
     "output_type": "execute_result"
    }
   ],
   "source": [
    "pd.concat([df5,df6],axis=1)"
   ]
  },
  {
   "cell_type": "markdown",
   "metadata": {
    "collapsed": true
   },
   "source": [
    "## 5. How to deal with messy data?"
   ]
  },
  {
   "cell_type": "markdown",
   "metadata": {},
   "source": [
    "### Let's get back to NYC..."
   ]
  },
  {
   "cell_type": "code",
   "execution_count": 48,
   "metadata": {
    "collapsed": false
   },
   "outputs": [
    {
     "name": "stderr",
     "output_type": "stream",
     "text": [
      "/Users/zepeng/anaconda/lib/python3.5/site-packages/IPython/core/interactiveshell.py:2723: DtypeWarning: Columns (8) have mixed types. Specify dtype option on import or set low_memory=False.\n",
      "  interactivity=interactivity, compiler=compiler, result=result)\n"
     ]
    }
   ],
   "source": [
    "requests = pd.read_csv('../data/311-service-requests.csv')"
   ]
  },
  {
   "cell_type": "code",
   "execution_count": 49,
   "metadata": {
    "collapsed": false
   },
   "outputs": [
    {
     "data": {
      "text/html": [
       "<div>\n",
       "<table border=\"1\" class=\"dataframe\">\n",
       "  <thead>\n",
       "    <tr style=\"text-align: right;\">\n",
       "      <th></th>\n",
       "      <th>Unique Key</th>\n",
       "      <th>Created Date</th>\n",
       "      <th>Closed Date</th>\n",
       "      <th>Agency</th>\n",
       "      <th>Agency Name</th>\n",
       "      <th>Complaint Type</th>\n",
       "      <th>Descriptor</th>\n",
       "      <th>Location Type</th>\n",
       "      <th>Incident Zip</th>\n",
       "      <th>Incident Address</th>\n",
       "      <th>...</th>\n",
       "      <th>Bridge Highway Name</th>\n",
       "      <th>Bridge Highway Direction</th>\n",
       "      <th>Road Ramp</th>\n",
       "      <th>Bridge Highway Segment</th>\n",
       "      <th>Garage Lot Name</th>\n",
       "      <th>Ferry Direction</th>\n",
       "      <th>Ferry Terminal Name</th>\n",
       "      <th>Latitude</th>\n",
       "      <th>Longitude</th>\n",
       "      <th>Location</th>\n",
       "    </tr>\n",
       "  </thead>\n",
       "  <tbody>\n",
       "    <tr>\n",
       "      <th>0</th>\n",
       "      <td>26589651</td>\n",
       "      <td>10/31/2013 02:08:41 AM</td>\n",
       "      <td>NaN</td>\n",
       "      <td>NYPD</td>\n",
       "      <td>New York City Police Department</td>\n",
       "      <td>Noise - Street/Sidewalk</td>\n",
       "      <td>Loud Talking</td>\n",
       "      <td>Street/Sidewalk</td>\n",
       "      <td>11432</td>\n",
       "      <td>90-03 169 STREET</td>\n",
       "      <td>...</td>\n",
       "      <td>NaN</td>\n",
       "      <td>NaN</td>\n",
       "      <td>NaN</td>\n",
       "      <td>NaN</td>\n",
       "      <td>NaN</td>\n",
       "      <td>NaN</td>\n",
       "      <td>NaN</td>\n",
       "      <td>40.708275</td>\n",
       "      <td>-73.791604</td>\n",
       "      <td>(40.70827532593202, -73.79160395779721)</td>\n",
       "    </tr>\n",
       "    <tr>\n",
       "      <th>1</th>\n",
       "      <td>26593698</td>\n",
       "      <td>10/31/2013 02:01:04 AM</td>\n",
       "      <td>NaN</td>\n",
       "      <td>NYPD</td>\n",
       "      <td>New York City Police Department</td>\n",
       "      <td>Illegal Parking</td>\n",
       "      <td>Commercial Overnight Parking</td>\n",
       "      <td>Street/Sidewalk</td>\n",
       "      <td>11378</td>\n",
       "      <td>58 AVENUE</td>\n",
       "      <td>...</td>\n",
       "      <td>NaN</td>\n",
       "      <td>NaN</td>\n",
       "      <td>NaN</td>\n",
       "      <td>NaN</td>\n",
       "      <td>NaN</td>\n",
       "      <td>NaN</td>\n",
       "      <td>NaN</td>\n",
       "      <td>40.721041</td>\n",
       "      <td>-73.909453</td>\n",
       "      <td>(40.721040535628305, -73.90945306791765)</td>\n",
       "    </tr>\n",
       "    <tr>\n",
       "      <th>2</th>\n",
       "      <td>26594139</td>\n",
       "      <td>10/31/2013 02:00:24 AM</td>\n",
       "      <td>10/31/2013 02:40:32 AM</td>\n",
       "      <td>NYPD</td>\n",
       "      <td>New York City Police Department</td>\n",
       "      <td>Noise - Commercial</td>\n",
       "      <td>Loud Music/Party</td>\n",
       "      <td>Club/Bar/Restaurant</td>\n",
       "      <td>10032</td>\n",
       "      <td>4060 BROADWAY</td>\n",
       "      <td>...</td>\n",
       "      <td>NaN</td>\n",
       "      <td>NaN</td>\n",
       "      <td>NaN</td>\n",
       "      <td>NaN</td>\n",
       "      <td>NaN</td>\n",
       "      <td>NaN</td>\n",
       "      <td>NaN</td>\n",
       "      <td>40.843330</td>\n",
       "      <td>-73.939144</td>\n",
       "      <td>(40.84332975466513, -73.93914371913482)</td>\n",
       "    </tr>\n",
       "    <tr>\n",
       "      <th>3</th>\n",
       "      <td>26595721</td>\n",
       "      <td>10/31/2013 01:56:23 AM</td>\n",
       "      <td>10/31/2013 02:21:48 AM</td>\n",
       "      <td>NYPD</td>\n",
       "      <td>New York City Police Department</td>\n",
       "      <td>Noise - Vehicle</td>\n",
       "      <td>Car/Truck Horn</td>\n",
       "      <td>Street/Sidewalk</td>\n",
       "      <td>10023</td>\n",
       "      <td>WEST 72 STREET</td>\n",
       "      <td>...</td>\n",
       "      <td>NaN</td>\n",
       "      <td>NaN</td>\n",
       "      <td>NaN</td>\n",
       "      <td>NaN</td>\n",
       "      <td>NaN</td>\n",
       "      <td>NaN</td>\n",
       "      <td>NaN</td>\n",
       "      <td>40.778009</td>\n",
       "      <td>-73.980213</td>\n",
       "      <td>(40.7780087446372, -73.98021349023975)</td>\n",
       "    </tr>\n",
       "    <tr>\n",
       "      <th>4</th>\n",
       "      <td>26590930</td>\n",
       "      <td>10/31/2013 01:53:44 AM</td>\n",
       "      <td>NaN</td>\n",
       "      <td>DOHMH</td>\n",
       "      <td>Department of Health and Mental Hygiene</td>\n",
       "      <td>Rodent</td>\n",
       "      <td>Condition Attracting Rodents</td>\n",
       "      <td>Vacant Lot</td>\n",
       "      <td>10027</td>\n",
       "      <td>WEST 124 STREET</td>\n",
       "      <td>...</td>\n",
       "      <td>NaN</td>\n",
       "      <td>NaN</td>\n",
       "      <td>NaN</td>\n",
       "      <td>NaN</td>\n",
       "      <td>NaN</td>\n",
       "      <td>NaN</td>\n",
       "      <td>NaN</td>\n",
       "      <td>40.807691</td>\n",
       "      <td>-73.947387</td>\n",
       "      <td>(40.80769092704951, -73.94738703491433)</td>\n",
       "    </tr>\n",
       "  </tbody>\n",
       "</table>\n",
       "<p>5 rows × 52 columns</p>\n",
       "</div>"
      ],
      "text/plain": [
       "   Unique Key            Created Date             Closed Date Agency  \\\n",
       "0    26589651  10/31/2013 02:08:41 AM                     NaN   NYPD   \n",
       "1    26593698  10/31/2013 02:01:04 AM                     NaN   NYPD   \n",
       "2    26594139  10/31/2013 02:00:24 AM  10/31/2013 02:40:32 AM   NYPD   \n",
       "3    26595721  10/31/2013 01:56:23 AM  10/31/2013 02:21:48 AM   NYPD   \n",
       "4    26590930  10/31/2013 01:53:44 AM                     NaN  DOHMH   \n",
       "\n",
       "                               Agency Name           Complaint Type  \\\n",
       "0          New York City Police Department  Noise - Street/Sidewalk   \n",
       "1          New York City Police Department          Illegal Parking   \n",
       "2          New York City Police Department       Noise - Commercial   \n",
       "3          New York City Police Department          Noise - Vehicle   \n",
       "4  Department of Health and Mental Hygiene                   Rodent   \n",
       "\n",
       "                     Descriptor        Location Type Incident Zip  \\\n",
       "0                  Loud Talking      Street/Sidewalk        11432   \n",
       "1  Commercial Overnight Parking      Street/Sidewalk        11378   \n",
       "2              Loud Music/Party  Club/Bar/Restaurant        10032   \n",
       "3                Car/Truck Horn      Street/Sidewalk        10023   \n",
       "4  Condition Attracting Rodents           Vacant Lot        10027   \n",
       "\n",
       "   Incident Address                    ...                     \\\n",
       "0  90-03 169 STREET                    ...                      \n",
       "1         58 AVENUE                    ...                      \n",
       "2     4060 BROADWAY                    ...                      \n",
       "3    WEST 72 STREET                    ...                      \n",
       "4   WEST 124 STREET                    ...                      \n",
       "\n",
       "  Bridge Highway Name Bridge Highway Direction Road Ramp  \\\n",
       "0                 NaN                      NaN       NaN   \n",
       "1                 NaN                      NaN       NaN   \n",
       "2                 NaN                      NaN       NaN   \n",
       "3                 NaN                      NaN       NaN   \n",
       "4                 NaN                      NaN       NaN   \n",
       "\n",
       "  Bridge Highway Segment Garage Lot Name Ferry Direction Ferry Terminal Name  \\\n",
       "0                    NaN             NaN             NaN                 NaN   \n",
       "1                    NaN             NaN             NaN                 NaN   \n",
       "2                    NaN             NaN             NaN                 NaN   \n",
       "3                    NaN             NaN             NaN                 NaN   \n",
       "4                    NaN             NaN             NaN                 NaN   \n",
       "\n",
       "    Latitude  Longitude                                  Location  \n",
       "0  40.708275 -73.791604   (40.70827532593202, -73.79160395779721)  \n",
       "1  40.721041 -73.909453  (40.721040535628305, -73.90945306791765)  \n",
       "2  40.843330 -73.939144   (40.84332975466513, -73.93914371913482)  \n",
       "3  40.778009 -73.980213    (40.7780087446372, -73.98021349023975)  \n",
       "4  40.807691 -73.947387   (40.80769092704951, -73.94738703491433)  \n",
       "\n",
       "[5 rows x 52 columns]"
      ]
     },
     "execution_count": 49,
     "metadata": {},
     "output_type": "execute_result"
    }
   ],
   "source": [
    "requests.head(5)"
   ]
  },
  {
   "cell_type": "markdown",
   "metadata": {},
   "source": [
    "#### Example on zip code:"
   ]
  },
  {
   "cell_type": "code",
   "execution_count": 50,
   "metadata": {
    "collapsed": false
   },
   "outputs": [
    {
     "data": {
      "text/plain": [
       "array([11432.0, 11378.0, 10032.0, 10023.0, 10027.0, 11372.0, 11419.0,\n",
       "       11417.0, 10011.0, 11225.0, 11218.0, 10003.0, 10029.0, 10466.0,\n",
       "       11219.0, 10025.0, 10310.0, 11236.0, nan, 10033.0, 11216.0, 10016.0,\n",
       "       10305.0, 10312.0, 10026.0, 10309.0, 10036.0, 11433.0, 11235.0,\n",
       "       11213.0, 11379.0, 11101.0, 10014.0, 11231.0, 11234.0, 10457.0,\n",
       "       10459.0, 10465.0, 11207.0, 10002.0, 10034.0, 11233.0, 10453.0,\n",
       "       10456.0, 10469.0, 11374.0, 11221.0, 11421.0, 11215.0, 10007.0,\n",
       "       10019.0, 11205.0, 11418.0, 11369.0, 11249.0, 10005.0, 10009.0,\n",
       "       11211.0, 11412.0, 10458.0, 11229.0, 10065.0, 10030.0, 11222.0,\n",
       "       10024.0, 10013.0, 11420.0, 11365.0, 10012.0, 11214.0, 11212.0,\n",
       "       10022.0, 11232.0, 11040.0, 11226.0, 10281.0, 11102.0, 11208.0,\n",
       "       10001.0, 10472.0, 11414.0, 11223.0, 10040.0, 11220.0, 11373.0,\n",
       "       11203.0, 11691.0, 11356.0, 10017.0, 10452.0, 10280.0, 11217.0,\n",
       "       10031.0, 11201.0, 11358.0, 10128.0, 11423.0, 10039.0, 10010.0,\n",
       "       11209.0, 10021.0, 10037.0, 11413.0, 11375.0, 11238.0, 10473.0,\n",
       "       11103.0, 11354.0, 11361.0, 11106.0, 11385.0, 10463.0, 10467.0,\n",
       "       11204.0, 11237.0, 11377.0, 11364.0, 11434.0, 11435.0, 11210.0,\n",
       "       11228.0, 11368.0, 11694.0, 10464.0, 11415.0, 10314.0, 10301.0,\n",
       "       10018.0, 10038.0, 11105.0, 11230.0, 10468.0, 11104.0, 10471.0,\n",
       "       11416.0, 10075.0, 11422.0, 11355.0, 10028.0, 10462.0, 10306.0,\n",
       "       10461.0, 11224.0, 11429.0, 10035.0, 11366.0, 11362.0, 11206.0,\n",
       "       10460.0, 10304.0, 11360.0, 11411.0, 10455.0, 10475.0, 10069.0,\n",
       "       10303.0, 10308.0, 10302.0, 11357.0, 10470.0, 11367.0, 11370.0,\n",
       "       10454.0, 10451.0, 11436.0, 11426.0, 10153.0, 11004.0, 11428.0,\n",
       "       11427.0, 11001.0, 11363.0, 10004.0, 10474.0, 11430.0, 10000.0,\n",
       "       10307.0, 11239.0, 10119.0, 10006.0, 10048.0, 11697.0, 11692.0,\n",
       "       11693.0, 10573.0, 83.0, 11559.0, 10020.0, 77056.0, 11776.0, 70711.0,\n",
       "       10282.0, 11109.0, 10044.0, '10452', '11233', '10468', '10310',\n",
       "       '11105', '10462', '10029', '10301', '10457', '10467', '10469',\n",
       "       '11225', '10035', '10031', '11226', '10454', '11221', '10025',\n",
       "       '11229', '11235', '11422', '10472', '11208', '11102', '10032',\n",
       "       '11216', '10473', '10463', '11213', '10040', '10302', '11231',\n",
       "       '10470', '11204', '11104', '11212', '10466', '11416', '11214',\n",
       "       '10009', '11692', '11385', '11423', '11201', '10024', '11435',\n",
       "       '10312', '10030', '11106', '10033', '10303', '11215', '11222',\n",
       "       '11354', '10016', '10034', '11420', '10304', '10019', '11237',\n",
       "       '11249', '11230', '11372', '11207', '11378', '11419', '11361',\n",
       "       '10011', '11357', '10012', '11358', '10003', '10002', '11374',\n",
       "       '10007', '11234', '10065', '11369', '11434', '11205', '11206',\n",
       "       '11415', '11236', '11218', '11413', '10458', '11101', '10306',\n",
       "       '11355', '10023', '11368', '10314', '11421', '10010', '10018',\n",
       "       '11223', '10455', '11377', '11433', '11375', '10037', '11209',\n",
       "       '10459', '10128', '10014', '10282', '11373', '10451', '11238',\n",
       "       '11211', '10038', '11694', '11203', '11691', '11232', '10305',\n",
       "       '10021', '11228', '10036', '10001', '10017', '11217', '11219',\n",
       "       '10308', '10465', '11379', '11414', '10460', '11417', '11220',\n",
       "       '11366', '10027', '11370', '10309', '11412', '11356', '10456',\n",
       "       '11432', '10022', '10013', '11367', '11040', '10026', '10475',\n",
       "       '11210', '11364', '11426', '10471', '10119', '11224', '11418',\n",
       "       '11429', '11365', '10461', '11239', '10039', '00083', '11411',\n",
       "       '10075', '11004', '11360', '10453', '10028', '11430', '10307',\n",
       "       '11103', '10004', '10069', '10005', '10474', '11428', '11436',\n",
       "       '10020', '11001', '11362', '11693', '10464', '11427', '10044',\n",
       "       '11363', '10006', '10000', '02061', '77092-2016', '10280', '11109',\n",
       "       '14225', '55164-0737', '19711', '07306', '000000', 'NO CLUE',\n",
       "       '90010', '10281', '11747', '23541', '11776', '11697', '11788',\n",
       "       '07604', 10112.0, 11788.0, 11563.0, 11580.0, 7087.0, 11042.0,\n",
       "       7093.0, 11501.0, 92123.0, 0.0, 11575.0, 7109.0, 11797.0, '10803',\n",
       "       '11716', '11722', '11549-3650', '10162', '92123', '23502', '11518',\n",
       "       '07020', '08807', '11577', '07114', '11003', '07201', '11563',\n",
       "       '61702', '10103', '29616-0759', '35209-3114', '11520', '11735',\n",
       "       '10129', '11005', '41042', '11590', 6901.0, 7208.0, 11530.0,\n",
       "       13221.0, 10954.0, 11735.0, 10103.0, 7114.0, 11111.0, 10107.0], dtype=object)"
      ]
     },
     "execution_count": 50,
     "metadata": {},
     "output_type": "execute_result"
    }
   ],
   "source": [
    "requests['Incident Zip'].unique()"
   ]
  },
  {
   "cell_type": "markdown",
   "metadata": {},
   "source": [
    "#### Already some messy ones: 'NO CLUE'; '29616-0759'; ..."
   ]
  },
  {
   "cell_type": "code",
   "execution_count": 51,
   "metadata": {
    "collapsed": true
   },
   "outputs": [],
   "source": [
    "na_values = ['NO CLUE', 'N/A', '0']\n",
    "requests = pd.read_csv('../data/311-service-requests.csv', na_values=na_values, dtype={'Incident Zip': str})"
   ]
  },
  {
   "cell_type": "code",
   "execution_count": 52,
   "metadata": {
    "collapsed": true
   },
   "outputs": [],
   "source": [
    "rows_with_dashes = requests['Incident Zip'].str.contains('-').fillna(False)"
   ]
  },
  {
   "cell_type": "code",
   "execution_count": 54,
   "metadata": {
    "collapsed": false
   },
   "outputs": [
    {
     "data": {
      "text/plain": [
       "5"
      ]
     },
     "execution_count": 54,
     "metadata": {},
     "output_type": "execute_result"
    }
   ],
   "source": [
    "len(requests[rows_with_dashes])  #choose rows when rows_with_dashes == True"
   ]
  },
  {
   "cell_type": "code",
   "execution_count": 55,
   "metadata": {
    "collapsed": false
   },
   "outputs": [
    {
     "data": {
      "text/html": [
       "<div>\n",
       "<table border=\"1\" class=\"dataframe\">\n",
       "  <thead>\n",
       "    <tr style=\"text-align: right;\">\n",
       "      <th></th>\n",
       "      <th>Unique Key</th>\n",
       "      <th>Created Date</th>\n",
       "      <th>Closed Date</th>\n",
       "      <th>Agency</th>\n",
       "      <th>Agency Name</th>\n",
       "      <th>Complaint Type</th>\n",
       "      <th>Descriptor</th>\n",
       "      <th>Location Type</th>\n",
       "      <th>Incident Zip</th>\n",
       "      <th>Incident Address</th>\n",
       "      <th>...</th>\n",
       "      <th>Bridge Highway Name</th>\n",
       "      <th>Bridge Highway Direction</th>\n",
       "      <th>Road Ramp</th>\n",
       "      <th>Bridge Highway Segment</th>\n",
       "      <th>Garage Lot Name</th>\n",
       "      <th>Ferry Direction</th>\n",
       "      <th>Ferry Terminal Name</th>\n",
       "      <th>Latitude</th>\n",
       "      <th>Longitude</th>\n",
       "      <th>Location</th>\n",
       "    </tr>\n",
       "  </thead>\n",
       "  <tbody>\n",
       "    <tr>\n",
       "      <th>29136</th>\n",
       "      <td>26550551</td>\n",
       "      <td>10/24/2013 06:16:34 PM</td>\n",
       "      <td>NaN</td>\n",
       "      <td>DCA</td>\n",
       "      <td>Department of Consumer Affairs</td>\n",
       "      <td>Consumer Complaint</td>\n",
       "      <td>False Advertising</td>\n",
       "      <td>NaN</td>\n",
       "      <td>77092-2016</td>\n",
       "      <td>2700 EAST SELTICE WAY</td>\n",
       "      <td>...</td>\n",
       "      <td>NaN</td>\n",
       "      <td>NaN</td>\n",
       "      <td>NaN</td>\n",
       "      <td>NaN</td>\n",
       "      <td>NaN</td>\n",
       "      <td>NaN</td>\n",
       "      <td>NaN</td>\n",
       "      <td>NaN</td>\n",
       "      <td>NaN</td>\n",
       "      <td>NaN</td>\n",
       "    </tr>\n",
       "    <tr>\n",
       "      <th>30939</th>\n",
       "      <td>26548831</td>\n",
       "      <td>10/24/2013 09:35:10 AM</td>\n",
       "      <td>NaN</td>\n",
       "      <td>DCA</td>\n",
       "      <td>Department of Consumer Affairs</td>\n",
       "      <td>Consumer Complaint</td>\n",
       "      <td>Harassment</td>\n",
       "      <td>NaN</td>\n",
       "      <td>55164-0737</td>\n",
       "      <td>P.O. BOX 64437</td>\n",
       "      <td>...</td>\n",
       "      <td>NaN</td>\n",
       "      <td>NaN</td>\n",
       "      <td>NaN</td>\n",
       "      <td>NaN</td>\n",
       "      <td>NaN</td>\n",
       "      <td>NaN</td>\n",
       "      <td>NaN</td>\n",
       "      <td>NaN</td>\n",
       "      <td>NaN</td>\n",
       "      <td>NaN</td>\n",
       "    </tr>\n",
       "    <tr>\n",
       "      <th>70539</th>\n",
       "      <td>26488417</td>\n",
       "      <td>10/15/2013 03:40:33 PM</td>\n",
       "      <td>NaN</td>\n",
       "      <td>TLC</td>\n",
       "      <td>Taxi and Limousine Commission</td>\n",
       "      <td>Taxi Complaint</td>\n",
       "      <td>Driver Complaint</td>\n",
       "      <td>Street</td>\n",
       "      <td>11549-3650</td>\n",
       "      <td>365 HOFSTRA UNIVERSITY</td>\n",
       "      <td>...</td>\n",
       "      <td>NaN</td>\n",
       "      <td>NaN</td>\n",
       "      <td>NaN</td>\n",
       "      <td>NaN</td>\n",
       "      <td>NaN</td>\n",
       "      <td>NaN</td>\n",
       "      <td>NaN</td>\n",
       "      <td>NaN</td>\n",
       "      <td>NaN</td>\n",
       "      <td>NaN</td>\n",
       "    </tr>\n",
       "    <tr>\n",
       "      <th>85821</th>\n",
       "      <td>26468296</td>\n",
       "      <td>10/10/2013 12:36:43 PM</td>\n",
       "      <td>10/26/2013 01:07:07 AM</td>\n",
       "      <td>DCA</td>\n",
       "      <td>Department of Consumer Affairs</td>\n",
       "      <td>Consumer Complaint</td>\n",
       "      <td>Debt Not Owed</td>\n",
       "      <td>NaN</td>\n",
       "      <td>29616-0759</td>\n",
       "      <td>PO BOX 25759</td>\n",
       "      <td>...</td>\n",
       "      <td>NaN</td>\n",
       "      <td>NaN</td>\n",
       "      <td>NaN</td>\n",
       "      <td>NaN</td>\n",
       "      <td>NaN</td>\n",
       "      <td>NaN</td>\n",
       "      <td>NaN</td>\n",
       "      <td>NaN</td>\n",
       "      <td>NaN</td>\n",
       "      <td>NaN</td>\n",
       "    </tr>\n",
       "    <tr>\n",
       "      <th>89304</th>\n",
       "      <td>26461137</td>\n",
       "      <td>10/09/2013 05:23:46 PM</td>\n",
       "      <td>10/25/2013 01:06:41 AM</td>\n",
       "      <td>DCA</td>\n",
       "      <td>Department of Consumer Affairs</td>\n",
       "      <td>Consumer Complaint</td>\n",
       "      <td>Harassment</td>\n",
       "      <td>NaN</td>\n",
       "      <td>35209-3114</td>\n",
       "      <td>600 BEACON PKWY</td>\n",
       "      <td>...</td>\n",
       "      <td>NaN</td>\n",
       "      <td>NaN</td>\n",
       "      <td>NaN</td>\n",
       "      <td>NaN</td>\n",
       "      <td>NaN</td>\n",
       "      <td>NaN</td>\n",
       "      <td>NaN</td>\n",
       "      <td>NaN</td>\n",
       "      <td>NaN</td>\n",
       "      <td>NaN</td>\n",
       "    </tr>\n",
       "  </tbody>\n",
       "</table>\n",
       "<p>5 rows × 52 columns</p>\n",
       "</div>"
      ],
      "text/plain": [
       "       Unique Key            Created Date             Closed Date Agency  \\\n",
       "29136    26550551  10/24/2013 06:16:34 PM                     NaN    DCA   \n",
       "30939    26548831  10/24/2013 09:35:10 AM                     NaN    DCA   \n",
       "70539    26488417  10/15/2013 03:40:33 PM                     NaN    TLC   \n",
       "85821    26468296  10/10/2013 12:36:43 PM  10/26/2013 01:07:07 AM    DCA   \n",
       "89304    26461137  10/09/2013 05:23:46 PM  10/25/2013 01:06:41 AM    DCA   \n",
       "\n",
       "                          Agency Name      Complaint Type         Descriptor  \\\n",
       "29136  Department of Consumer Affairs  Consumer Complaint  False Advertising   \n",
       "30939  Department of Consumer Affairs  Consumer Complaint         Harassment   \n",
       "70539   Taxi and Limousine Commission      Taxi Complaint   Driver Complaint   \n",
       "85821  Department of Consumer Affairs  Consumer Complaint      Debt Not Owed   \n",
       "89304  Department of Consumer Affairs  Consumer Complaint         Harassment   \n",
       "\n",
       "      Location Type Incident Zip        Incident Address   ...     \\\n",
       "29136           NaN   77092-2016   2700 EAST SELTICE WAY   ...      \n",
       "30939           NaN   55164-0737          P.O. BOX 64437   ...      \n",
       "70539        Street   11549-3650  365 HOFSTRA UNIVERSITY   ...      \n",
       "85821           NaN   29616-0759            PO BOX 25759   ...      \n",
       "89304           NaN   35209-3114         600 BEACON PKWY   ...      \n",
       "\n",
       "      Bridge Highway Name Bridge Highway Direction Road Ramp  \\\n",
       "29136                 NaN                      NaN       NaN   \n",
       "30939                 NaN                      NaN       NaN   \n",
       "70539                 NaN                      NaN       NaN   \n",
       "85821                 NaN                      NaN       NaN   \n",
       "89304                 NaN                      NaN       NaN   \n",
       "\n",
       "      Bridge Highway Segment Garage Lot Name Ferry Direction  \\\n",
       "29136                    NaN             NaN             NaN   \n",
       "30939                    NaN             NaN             NaN   \n",
       "70539                    NaN             NaN             NaN   \n",
       "85821                    NaN             NaN             NaN   \n",
       "89304                    NaN             NaN             NaN   \n",
       "\n",
       "      Ferry Terminal Name Latitude Longitude Location  \n",
       "29136                 NaN      NaN       NaN      NaN  \n",
       "30939                 NaN      NaN       NaN      NaN  \n",
       "70539                 NaN      NaN       NaN      NaN  \n",
       "85821                 NaN      NaN       NaN      NaN  \n",
       "89304                 NaN      NaN       NaN      NaN  \n",
       "\n",
       "[5 rows x 52 columns]"
      ]
     },
     "execution_count": 55,
     "metadata": {},
     "output_type": "execute_result"
    }
   ],
   "source": [
    "requests[rows_with_dashes]"
   ]
  },
  {
   "cell_type": "code",
   "execution_count": 56,
   "metadata": {
    "collapsed": true
   },
   "outputs": [],
   "source": [
    "requests['Incident Zip'] = requests['Incident Zip'].str.slice(0, 5)"
   ]
  },
  {
   "cell_type": "code",
   "execution_count": 57,
   "metadata": {
    "collapsed": true
   },
   "outputs": [],
   "source": [
    "zero_zips = requests['Incident Zip'] == '00000'\n",
    "requests.loc[zero_zips, 'Incident Zip'] = np.nan"
   ]
  },
  {
   "cell_type": "code",
   "execution_count": 58,
   "metadata": {
    "collapsed": false
   },
   "outputs": [],
   "source": [
    "unique_zips = requests['Incident Zip'].unique()"
   ]
  },
  {
   "cell_type": "code",
   "execution_count": 59,
   "metadata": {
    "collapsed": false
   },
   "outputs": [
    {
     "data": {
      "text/plain": [
       "array(['11432', '11378', '10032', '10023', '10027', '11372', '11419',\n",
       "       '11417', '10011', '11225', '11218', '10003', '10029', '10466',\n",
       "       '11219', '10025', '10310', '11236', nan, '10033', '11216', '10016',\n",
       "       '10305', '10312', '10026', '10309', '10036', '11433', '11235',\n",
       "       '11213', '11379', '11101', '10014', '11231', '11234', '10457',\n",
       "       '10459', '10465', '11207', '10002', '10034', '11233', '10453',\n",
       "       '10456', '10469', '11374', '11221', '11421', '11215', '10007',\n",
       "       '10019', '11205', '11418', '11369', '11249', '10005', '10009',\n",
       "       '11211', '11412', '10458', '11229', '10065', '10030', '11222',\n",
       "       '10024', '10013', '11420', '11365', '10012', '11214', '11212',\n",
       "       '10022', '11232', '11040', '11226', '10281', '11102', '11208',\n",
       "       '10001', '10472', '11414', '11223', '10040', '11220', '11373',\n",
       "       '11203', '11691', '11356', '10017', '10452', '10280', '11217',\n",
       "       '10031', '11201', '11358', '10128', '11423', '10039', '10010',\n",
       "       '11209', '10021', '10037', '11413', '11375', '11238', '10473',\n",
       "       '11103', '11354', '11361', '11106', '11385', '10463', '10467',\n",
       "       '11204', '11237', '11377', '11364', '11434', '11435', '11210',\n",
       "       '11228', '11368', '11694', '10464', '11415', '10314', '10301',\n",
       "       '10018', '10038', '11105', '11230', '10468', '11104', '10471',\n",
       "       '11416', '10075', '11422', '11355', '10028', '10462', '10306',\n",
       "       '10461', '11224', '11429', '10035', '11366', '11362', '11206',\n",
       "       '10460', '10304', '11360', '11411', '10455', '10475', '10069',\n",
       "       '10303', '10308', '10302', '11357', '10470', '11367', '11370',\n",
       "       '10454', '10451', '11436', '11426', '10153', '11004', '11428',\n",
       "       '11427', '11001', '11363', '10004', '10474', '11430', '10000',\n",
       "       '10307', '11239', '10119', '10006', '10048', '11697', '11692',\n",
       "       '11693', '10573', '00083', '11559', '10020', '77056', '11776',\n",
       "       '70711', '10282', '11109', '10044', '02061', '77092', '14225',\n",
       "       '55164', '19711', '07306', '90010', '11747', '23541', '11788',\n",
       "       '07604', '10112', '11563', '11580', '07087', '11042', '07093',\n",
       "       '11501', '92123', '11575', '07109', '11797', '10803', '11716',\n",
       "       '11722', '11549', '10162', '23502', '11518', '07020', '08807',\n",
       "       '11577', '07114', '11003', '07201', '61702', '10103', '29616',\n",
       "       '35209', '11520', '11735', '10129', '11005', '41042', '11590',\n",
       "       '06901', '07208', '11530', '13221', '10954', '11111', '10107'], dtype=object)"
      ]
     },
     "execution_count": 59,
     "metadata": {},
     "output_type": "execute_result"
    }
   ],
   "source": [
    "unique_zips"
   ]
  },
  {
   "cell_type": "markdown",
   "metadata": {},
   "source": [
    "## 6. How to split strings using signs in them?"
   ]
  },
  {
   "cell_type": "code",
   "execution_count": 60,
   "metadata": {
    "collapsed": true
   },
   "outputs": [],
   "source": [
    "tmp = '四川$$成都$$青羊区'"
   ]
  },
  {
   "cell_type": "code",
   "execution_count": 61,
   "metadata": {
    "collapsed": false
   },
   "outputs": [
    {
     "data": {
      "text/plain": [
       "['四川', '成都', '青羊区']"
      ]
     },
     "execution_count": 61,
     "metadata": {},
     "output_type": "execute_result"
    }
   ],
   "source": [
    "address = tmp.split('$$')\n",
    "address"
   ]
  },
  {
   "cell_type": "code",
   "execution_count": 62,
   "metadata": {
    "collapsed": false
   },
   "outputs": [
    {
     "data": {
      "text/plain": [
       "'成都'"
      ]
     },
     "execution_count": 62,
     "metadata": {},
     "output_type": "execute_result"
    }
   ],
   "source": [
    "address[1]"
   ]
  },
  {
   "cell_type": "markdown",
   "metadata": {},
   "source": [
    "## Finally Save"
   ]
  },
  {
   "cell_type": "code",
   "execution_count": 63,
   "metadata": {
    "collapsed": true
   },
   "outputs": [],
   "source": [
    "requests.to_csv('result_0')"
   ]
  },
  {
   "cell_type": "code",
   "execution_count": null,
   "metadata": {
    "collapsed": true
   },
   "outputs": [],
   "source": []
  }
 ],
 "metadata": {
  "kernelspec": {
   "display_name": "Python 3",
   "language": "python",
   "name": "python3"
  },
  "language_info": {
   "codemirror_mode": {
    "name": "ipython",
    "version": 3
   },
   "file_extension": ".py",
   "mimetype": "text/x-python",
   "name": "python",
   "nbconvert_exporter": "python",
   "pygments_lexer": "ipython3",
   "version": "3.5.1"
  }
 },
 "nbformat": 4,
 "nbformat_minor": 0
}
